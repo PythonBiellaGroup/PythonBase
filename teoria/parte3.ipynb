{
 "cells": [
  {
   "cell_type": "markdown",
   "id": "b00f751e",
   "metadata": {
    "slideshow": {
     "slide_type": "slide"
    }
   },
   "source": [
    "# Python Base\n",
    "\n",
    "## Python Biella Group\n",
    "\n",
    "<br/>\n",
    "\n",
    "### Terza serata, 17/10/2022\n",
    "\n",
    "Speaker: \n",
    "\n",
    "- James Luca Bosotti (Assistente e Studente @ Università di Trento)\n",
    "- bosottiluca@gmail.com\n",
    "\n",
    "Repository github per questi tutorial:\n",
    "- https://github.com/PythonBiellaGroup/PythonBase/tree/main/teoria \n",
    "\n",
    "(Per ripassare link al libro [SoftPython](https://it.softpython.org) )\n",
    "\n",
    "* (Per anteprima slide premi `Esc`)"
   ]
  },
  {
   "cell_type": "markdown",
   "id": "d1e6dd57",
   "metadata": {
    "slideshow": {
     "slide_type": "subslide"
    }
   },
   "source": [
    "# Programmazione a Oggetti\n",
    "\n",
    "### OOP per gli amici"
   ]
  },
  {
   "cell_type": "markdown",
   "id": "eec80e4f",
   "metadata": {
    "slideshow": {
     "slide_type": "subslide"
    }
   },
   "source": [
    "Cambia il focus: \n",
    "\n",
    "Il codice non è più una linea più o meno dritta in cui dobbiamo esplicitare tutte le istruzioni\n",
    "\n",
    "Ma il compito del programmatore diventa quello di **descrivere** un ecosistema di oggetti e **relazioni**\n",
    "\n",
    "Il modo in cui queste relazioni si intersecano definirà il **comportamento** degli oggetti"
   ]
  },
  {
   "cell_type": "code",
   "execution_count": 22,
   "id": "ae10f6e8",
   "metadata": {
    "slideshow": {
     "slide_type": "slide"
    }
   },
   "outputs": [
    {
     "name": "stdout",
     "output_type": "stream",
     "text": [
      "miao\n",
      "bau\n",
      "??\n"
     ]
    }
   ],
   "source": [
    "# NO OOP\n",
    "\n",
    "animali = []\n",
    "\n",
    "animali.append( (\"Gatto\", \"miao\") )\n",
    "animali.append( (\"Cane\", \"bau\") )\n",
    "animali.append( (\"Coccodrillo\", \"??\") )\n",
    "\n",
    "def parla(animale):\n",
    "    print(animale[1])\n",
    "    \n",
    "for animale in animali:\n",
    "    parla(animale)"
   ]
  },
  {
   "cell_type": "code",
   "execution_count": 23,
   "id": "9891bd5c",
   "metadata": {
    "slideshow": {
     "slide_type": "subslide"
    }
   },
   "outputs": [
    {
     "name": "stdout",
     "output_type": "stream",
     "text": [
      "Il verso di Gatto è: miao\n",
      "Il verso di Cane è: bau\n",
      "Il verso di Coccodrillo è: ??\n"
     ]
    }
   ],
   "source": [
    "# OOP!\n",
    "\n",
    "class Animale:\n",
    "    def __init__(self, specie, verso):\n",
    "        self.specie = specie\n",
    "        self.verso = verso\n",
    "    \n",
    "    def parla(self):\n",
    "        print(f\"Il verso di {self.specie} è: {self.verso}\")\n",
    "        \n",
    "animali = []\n",
    "\n",
    "animali.append(Animale(\"Gatto\", \"miao\"))\n",
    "animali.append(Animale(\"Cane\", \"bau\"))\n",
    "animali.append(Animale(\"Coccodrillo\", \"??\"))\n",
    "\n",
    "for animale in animali:\n",
    "    animale.parla()"
   ]
  },
  {
   "cell_type": "markdown",
   "id": "bce4ab25",
   "metadata": {
    "slideshow": {
     "slide_type": "subslide"
    }
   },
   "source": [
    "Beh ma quindi dove sta il vantaggio?"
   ]
  },
  {
   "cell_type": "markdown",
   "id": "365c5434",
   "metadata": {
    "slideshow": {
     "slide_type": "subslide"
    }
   },
   "source": [
    " - La quantità di codice è simile se non addirittura superiore (in questo esempio)\n",
    " - Sembra che il codice sia lo stesso, una funzione, due variabili"
   ]
  },
  {
   "cell_type": "markdown",
   "id": "bedade14",
   "metadata": {
    "slideshow": {
     "slide_type": "subslide"
    }
   },
   "source": [
    "Il vantaggio sta nella creazione di uno \"standard\"\n",
    "\n",
    "Il codice ora sa cos'è un ```Animale```, sa che ha due variabili e un metodo\n",
    "\n",
    "Sa che non ha senso esista un animale senza specie o senza verso\n",
    "\n",
    "Sa che tutti gli animali hanno un modo per parlare\n",
    "\n",
    "###### Per tutti gli amici biologi, questa è ovviamente una semplificazione :P\n"
   ]
  },
  {
   "cell_type": "markdown",
   "id": "f6e6e7bc",
   "metadata": {
    "slideshow": {
     "slide_type": "slide"
    }
   },
   "source": [
    "# Oggetto o classe?"
   ]
  },
  {
   "cell_type": "code",
   "execution_count": 24,
   "id": "7b653fa1",
   "metadata": {
    "slideshow": {
     "slide_type": "subslide"
    }
   },
   "outputs": [],
   "source": [
    "class Animale:\n",
    "    pass\n",
    "\n",
    "mio_gatto = Animale()"
   ]
  },
  {
   "cell_type": "markdown",
   "id": "5477d94f",
   "metadata": {
    "slideshow": {
     "slide_type": "subslide"
    }
   },
   "source": [
    "```Animale``` è una classe, è una rappresentazione di tutti i possibili animali che possono esistere dal mio gatto ai temibili Vermi delle sabbie di Dune.\n",
    "\n",
    "    "
   ]
  },
  {
   "cell_type": "markdown",
   "id": "000dbcba",
   "metadata": {
    "slideshow": {
     "slide_type": "slide"
    }
   },
   "source": [
    "## Aggiungere un metodo\n",
    "\n",
    "I metodi sono le \"funzioni\" degli oggetti. Descrivono i suoi comportamenti"
   ]
  },
  {
   "cell_type": "code",
   "execution_count": 25,
   "id": "b3ab472f",
   "metadata": {
    "slideshow": {
     "slide_type": "fragment"
    }
   },
   "outputs": [],
   "source": [
    "class Animale:\n",
    "    def parla(self):\n",
    "        print(f\"Il verso di {self.specie} è: {self.verso}\")\n"
   ]
  },
  {
   "cell_type": "markdown",
   "id": "2626e135",
   "metadata": {
    "slideshow": {
     "slide_type": "subslide"
    }
   },
   "source": [
    "Ok, ma cos'è \"self\"?\n",
    "\n",
    "<img src=\"img/mirror.jpeg\" width=\"240\" height=\"240\" align=\"right\"/>\n"
   ]
  },
  {
   "cell_type": "markdown",
   "id": "e2b96ee4",
   "metadata": {
    "slideshow": {
     "slide_type": "fragment"
    }
   },
   "source": [
    "Se Animale è una classe, al contrario mio_gatto, Verme delle sabbie o ogni altro animale reale (Cioè che esiste e ti più mordere) è un'istanza della classe Animale.\n",
    "\n",
    "```self``` rappresenta quindi l'istanza stessa.\n",
    "\n",
    "quando si legge ```print(self.verso)``` si deve intendere \"stampa il verso proprio della mia istanza\""
   ]
  },
  {
   "cell_type": "markdown",
   "id": "d4ee312f",
   "metadata": {
    "slideshow": {
     "slide_type": "slide"
    }
   },
   "source": [
    "## Horror Vacui\n",
    "\n",
    "Aggiungiamo pezzi alla nostra classe Animale"
   ]
  },
  {
   "cell_type": "code",
   "execution_count": 26,
   "id": "f59d384a",
   "metadata": {
    "slideshow": {
     "slide_type": "subslide"
    }
   },
   "outputs": [],
   "source": [
    "class Animale:\n",
    "    def __init__(self, specie, verso):             # <--\n",
    "        self.specie = specie                       # <--\n",
    "        self.verso = verso                         # <--\n",
    "        \n",
    "    def parla(self):\n",
    "        print(f\"Il verso di {self.specie} è: {self.verso}\")\n"
   ]
  },
  {
   "cell_type": "markdown",
   "id": "71f67e8c",
   "metadata": {
    "slideshow": {
     "slide_type": "subslide"
    }
   },
   "source": [
    "Prima avevamo spiegato a Python che i nostri animali potevano parlare tramite la variabile ```verso```. Ma non avevamo mica detto che valore avesse o come si dovesse assegnare.\n",
    "\n",
    "```__init__``` risolve questo problema. E' un metodo che si chiama **costruttore** e spiega come vada creata un istanza della nostra classe.\n",
    "\n",
    "Notate come il suo nome inizia e finisca con due underscores. Questo è un segnale per Python che si tratta di un metodo speciale"
   ]
  },
  {
   "cell_type": "markdown",
   "id": "53855037",
   "metadata": {
    "slideshow": {
     "slide_type": "fragment"
    }
   },
   "source": [
    "```self.specie = specie```\n",
    "Questa linea sta dicendo di assegnare il parametro del metodo alla variabile d'istanza specie.\n",
    "\n",
    "Sembra rindondante per i nomi usati, ma è in realtà una buona pratica per non perdere di vista cosa vada dove\n",
    "\n"
   ]
  },
  {
   "cell_type": "markdown",
   "id": "cbecc317",
   "metadata": {
    "slideshow": {
     "slide_type": "slide"
    }
   },
   "source": [
    "## Variabili di istanza e di classe\n",
    "\n",
    "- Una variabile d'istanza è una proprietà che ogni rappresentante di quella classe possiede ma che è diversa tra ciascun individuo. \n",
    "\n",
    "- Una variabile di classe invece è una proprietà che tutti gli appartenendi a quella classe possiedono nella stessa e ugual misura.\n",
    "\n",
    "Per esempio\n",
    "\n",
    "- Istanza: Peso, altezza, propensione al rischio, numero di scarpe\n",
    "\n",
    "- Classe: classificazione regno animale, \n",
    "\n"
   ]
  },
  {
   "cell_type": "code",
   "execution_count": 27,
   "id": "62c155e8",
   "metadata": {
    "slideshow": {
     "slide_type": "subslide"
    }
   },
   "outputs": [],
   "source": [
    "class Animale:\n",
    "    \n",
    "    regno_della_vita = \"ANIMALE\"           # <--\n",
    "    fotosintesi = False                    # <--\n",
    "    \n",
    "    \n",
    "    def __init__(self, specie, verso):\n",
    "        self.specie = specie\n",
    "        self.verso = verso\n",
    "        \n",
    "    def parla(self):\n",
    "        print(f\"Il verso di {self.specie} è: {self.verso}\")\n"
   ]
  },
  {
   "cell_type": "markdown",
   "id": "969b85cf",
   "metadata": {
    "slideshow": {
     "slide_type": "fragment"
    }
   },
   "source": [
    "```regno_della_vita``` è una variabile di classe, non è necessario inizializzarla \n",
    "\n",
    "```self.specie``` è una variabile di istanza, assume un valore potenzialmente diverso per ogni animale"
   ]
  },
  {
   "cell_type": "code",
   "execution_count": 28,
   "id": "cf0b1593",
   "metadata": {
    "slideshow": {
     "slide_type": "subslide"
    }
   },
   "outputs": [
    {
     "name": "stdout",
     "output_type": "stream",
     "text": [
      "ANIMALE\n",
      "ANIMALE\n",
      "Il verso di zanzara è: bzzz\n",
      "Il verso di elefante è: bzzz\n"
     ]
    }
   ],
   "source": [
    "zanzara = Animale(\"zanzara\", \"bzzz\")\n",
    "elefante_confuso = Animale(\"elefante\", \"bzzz\")\n",
    "\n",
    "print(zanzara.regno_della_vita)\n",
    "print(elefante_confuso.regno_della_vita)\n",
    "zanzara.parla()\n",
    "elefante_confuso.parla()"
   ]
  },
  {
   "cell_type": "markdown",
   "id": "270fad4b",
   "metadata": {
    "slideshow": {
     "slide_type": "slide"
    }
   },
   "source": [
    "### Modificare le variabili di classe"
   ]
  },
  {
   "cell_type": "code",
   "execution_count": 33,
   "id": "b2225dab",
   "metadata": {
    "slideshow": {
     "slide_type": "fragment"
    }
   },
   "outputs": [
    {
     "name": "stdout",
     "output_type": "stream",
     "text": [
      "Batterio\n",
      "True\n",
      "ANIMALE...Forse\n"
     ]
    }
   ],
   "source": [
    "pinguino = Animale(\"Pinguino\", \"skee\")\n",
    "batterio = Animale(\"Batterio\", \"...\")\n",
    "\n",
    "batterio.fotosintesi = True\n",
    "batterio.regno_della_vita += \"...Forse\"\n",
    "\n",
    "print(\"Batterio\")\n",
    "print(batterio.fotosintesi)\n",
    "print(batterio.regno_della_vita)"
   ]
  },
  {
   "cell_type": "code",
   "execution_count": 35,
   "id": "37ca9f91",
   "metadata": {
    "slideshow": {
     "slide_type": "fragment"
    }
   },
   "outputs": [
    {
     "name": "stdout",
     "output_type": "stream",
     "text": [
      "Pinguino\n",
      "False\n",
      "ANIMALE\n"
     ]
    }
   ],
   "source": [
    "print(\"Pinguino\")\n",
    "print(pinguino.fotosintesi)\n",
    "print(pinguino.regno_della_vita)"
   ]
  },
  {
   "cell_type": "code",
   "execution_count": 37,
   "id": "1757f086",
   "metadata": {
    "slideshow": {
     "slide_type": "subslide"
    }
   },
   "outputs": [
    {
     "name": "stdout",
     "output_type": "stream",
     "text": [
      "Delfino\n",
      "True\n",
      "ANIMALE\n"
     ]
    }
   ],
   "source": [
    "Animale.fotosintesi = True\n",
    "\n",
    "delfino = Animale(\"Delfino\", \"kekeke\")\n",
    "print(\"Delfino\")\n",
    "print(delfino.fotosintesi)\n",
    "print(delfino.regno_della_vita)"
   ]
  },
  {
   "cell_type": "markdown",
   "id": "40438732",
   "metadata": {
    "slideshow": {
     "slide_type": "fragment"
    }
   },
   "source": [
    "E' possibile modificare una variabile di classe **MA** la modifica sarà valida solo per l'istanza per cui è stata modificata"
   ]
  },
  {
   "cell_type": "markdown",
   "id": "03414022",
   "metadata": {
    "slideshow": {
     "slide_type": "slide"
    }
   },
   "source": [
    "## Overloading\n",
    "\n",
    "<img src=\"img/overloading.jpg\" width=\"240\" height=\"240\" align=\"right\"/>\n",
    "\n",
    "Ma il mio animale però fa tanti versi diversi!"
   ]
  },
  {
   "cell_type": "code",
   "execution_count": 11,
   "id": "8c8af70a",
   "metadata": {
    "slideshow": {
     "slide_type": "subslide"
    }
   },
   "outputs": [
    {
     "name": "stdout",
     "output_type": "stream",
     "text": [
      "Il verso di Cucù è: cucù! cucù! cucù! cucù! cucù! \n"
     ]
    },
    {
     "ename": "TypeError",
     "evalue": "parla() missing 1 required positional argument: 'ritmo'",
     "output_type": "error",
     "traceback": [
      "\u001b[0;31m---------------------------------------------------------------------------\u001b[0m",
      "\u001b[0;31mTypeError\u001b[0m                                 Traceback (most recent call last)",
      "\u001b[0;32m<ipython-input-11-f46403af23a4>\u001b[0m in \u001b[0;36m<module>\u001b[0;34m\u001b[0m\n\u001b[1;32m     17\u001b[0m \u001b[0;34m\u001b[0m\u001b[0m\n\u001b[1;32m     18\u001b[0m \u001b[0mcucu\u001b[0m\u001b[0;34m.\u001b[0m\u001b[0mparla\u001b[0m\u001b[0;34m(\u001b[0m\u001b[0;36m5\u001b[0m\u001b[0;34m)\u001b[0m\u001b[0;34m\u001b[0m\u001b[0;34m\u001b[0m\u001b[0m\n\u001b[0;32m---> 19\u001b[0;31m \u001b[0mcucu\u001b[0m\u001b[0;34m.\u001b[0m\u001b[0mparla\u001b[0m\u001b[0;34m(\u001b[0m\u001b[0;34m)\u001b[0m\u001b[0;34m\u001b[0m\u001b[0;34m\u001b[0m\u001b[0m\n\u001b[0m",
      "\u001b[0;31mTypeError\u001b[0m: parla() missing 1 required positional argument: 'ritmo'"
     ]
    }
   ],
   "source": [
    "class Animale:\n",
    "    \n",
    "    regno_della_vita = \"ANIMALE\"           \n",
    "    fotosintesi = False                    \n",
    "    \n",
    "    def __init__(self, specie, verso):\n",
    "        self.specie = specie\n",
    "        self.verso = verso\n",
    "        \n",
    "    def parla(self):\n",
    "        print(f\"Il verso di {self.specie} è: {self.verso}\")\n",
    "    \n",
    "    def parla(self, ritmo):                                                  # <---\n",
    "        print(f\"Il verso di {self.specie} è: {(self.verso+' ') * ritmo}\")    # <---\n",
    "        \n",
    "cucu = Animale(\"Cucù\", \"cucù!\")\n",
    "\n",
    "cucu.parla(5)\n",
    "cucu.parla()"
   ]
  },
  {
   "cell_type": "markdown",
   "id": "3e9a1c64",
   "metadata": {
    "slideshow": {
     "slide_type": "subslide"
    }
   },
   "source": [
    "### Purtroppo, in Python, non è possibile fare l'overloading\n",
    "\n",
    "Ovvero, definire più volte un metodo usando firme diverse e scegliere a runtime quello corretto da utilizzare.\n",
    "\n",
    "In caso di \"tentato overloading\" infatti, solo l'ultima funzione definita avrà effetto."
   ]
  },
  {
   "cell_type": "markdown",
   "id": "f13487b1",
   "metadata": {
    "slideshow": {
     "slide_type": "slide"
    }
   },
   "source": [
    "## Methods overriding\n",
    "\n",
    "Diverso è il caso dell'overriding."
   ]
  },
  {
   "cell_type": "code",
   "execution_count": 15,
   "id": "62fdca55",
   "metadata": {
    "slideshow": {
     "slide_type": "fragment"
    }
   },
   "outputs": [
    {
     "name": "stdout",
     "output_type": "stream",
     "text": [
      "<__main__.Animale object at 0x7f57802cfd30>\n",
      "<__main__.Animale object at 0x7f57802912b0>\n"
     ]
    }
   ],
   "source": [
    "print(cucu)\n",
    "print(batterio)"
   ]
  },
  {
   "cell_type": "markdown",
   "id": "b368631a",
   "metadata": {
    "slideshow": {
     "slide_type": "fragment"
    }
   },
   "source": [
    "Qui vedete come Python stampi una cosa strana alla print dell'animale. \n",
    "\n",
    "Si tratta della print di default di tutti gli oggetti e indica la cella di memoria in cui è contenuta l'istanza dell'oggetto.\n",
    "\n",
    "Non sempre è molto informativa e quindi sarebbe interessante cambiarla."
   ]
  },
  {
   "cell_type": "code",
   "execution_count": 20,
   "id": "2f79571a",
   "metadata": {
    "slideshow": {
     "slide_type": "subslide"
    }
   },
   "outputs": [
    {
     "name": "stdout",
     "output_type": "stream",
     "text": [
      "ANIMALE: Piccione Comune\n"
     ]
    }
   ],
   "source": [
    "class Animale:\n",
    "    \n",
    "    regno_della_vita = \"ANIMALE\"           \n",
    "    fotosintesi = False                    \n",
    "    \n",
    "    def __init__(self, specie, verso):\n",
    "        self.specie = specie\n",
    "        self.verso = verso\n",
    "    \n",
    "    def __str__(self):                                         # <---\n",
    "        return f\"{self.regno_della_vita}: {self.specie}\"       # <---\n",
    "        \n",
    "    def parla(self):\n",
    "        print(f\"Il verso di {self.specie} è: {self.verso}\")\n",
    "\n",
    "piccione = Animale(\"Piccione Comune\", \"grugrugru\")\n",
    "print(piccione)"
   ]
  },
  {
   "cell_type": "markdown",
   "id": "9530a9fb",
   "metadata": {
    "slideshow": {
     "slide_type": "fragment"
    }
   },
   "source": [
    "Per modificarla è sufficiente ridefinire il metodo **\\_\\_str\\_\\_**\n",
    "\n",
    "In questo modo cambia il modo con l'oggetto verrà trasformato in stringa in ogni contesto in cui questo verrà richiesto."
   ]
  },
  {
   "cell_type": "markdown",
   "id": "ba6e7fbd",
   "metadata": {
    "slideshow": {
     "slide_type": "subslide"
    }
   },
   "source": [
    "Ma perchè proprio **\\_\\_str\\_\\_**?\n",
    "\n",
    "Perchè è uno dei cosiddetti **Special Methods** ([Docs Ufficiale](https://docs.python.org/3/reference/datamodel.html#special-method-names)) che una volta sovrascritti cambiano le funzionalità degli oggetti.\n",
    "\n",
    "Altri metodi speciali sono:\n",
    "\n",
    " - \\_\\_repr\\_\\_ che restituisce la cosa più vicina al codice necessario per rigenerare l'oggetto\n",
    " - \\_\\_lt\\_\\_ \\_\\_le\\_\\_ \\_\\_eq\\_\\_ \\_\\_ne\\_\\_ \\_\\_gt\\_\\_ \\_\\_ge\\_\\_ che determinao il comportamento coi booleani\n",
    " - \\_\\_getitem\\_\\_ che fa ridefinire \\[ \\] "
   ]
  },
  {
   "cell_type": "markdown",
   "id": "5115b4d7",
   "metadata": {
    "slideshow": {
     "slide_type": "slide"
    }
   },
   "source": [
    "## L'ereditarietà\n",
    "\n",
    "Una delle feature fondamentali dell'OOP permette di usare il pensiero di analogia\n",
    "\n",
    "\"Questa cosa funziona come quella ma...\""
   ]
  },
  {
   "cell_type": "code",
   "execution_count": 66,
   "id": "c34695f2",
   "metadata": {
    "slideshow": {
     "slide_type": "fragment"
    }
   },
   "outputs": [],
   "source": [
    "class Animale:\n",
    "    \n",
    "    regno_della_vita = \"ANIMALE\"           \n",
    "    fotosintesi = False                    \n",
    "    \n",
    "    def __init__(self, specie, verso):\n",
    "        self.specie = specie\n",
    "        self.verso = verso\n",
    "    \n",
    "    def __str__(self):                                         \n",
    "        return f\"{self.regno_della_vita}: {self.specie}\"       \n",
    "        \n",
    "    def parla(self):\n",
    "        print(f\"Il verso di {self.specie} è: {self.verso}\")\n",
    "        \n",
    "    def muovi(self):                                           # <---\n",
    "        print(\"Questo animale si muove su terra\")              # <---"
   ]
  },
  {
   "cell_type": "markdown",
   "id": "15dbc2aa",
   "metadata": {
    "slideshow": {
     "slide_type": "fragment"
    }
   },
   "source": [
    "Aggiungiamo il metodo per muoversi"
   ]
  },
  {
   "cell_type": "markdown",
   "id": "73330321",
   "metadata": {
    "slideshow": {
     "slide_type": "subslide"
    }
   },
   "source": [
    "Ora aggiungiamo una nuova classe di animali"
   ]
  },
  {
   "cell_type": "code",
   "execution_count": 68,
   "id": "b5d21fbb",
   "metadata": {
    "slideshow": {
     "slide_type": "fragment"
    }
   },
   "outputs": [
    {
     "name": "stdout",
     "output_type": "stream",
     "text": [
      "Questo animale nuota\n",
      "Questo animale si muove su terra\n"
     ]
    }
   ],
   "source": [
    "class Animale_Anfibio(Animale):\n",
    "    def nuota(self):\n",
    "        print(\"Questo animale nuota\")\n",
    "        \n",
    "polpo = Animale_Anfibio(\"Polpo\", \"blub\")\n",
    "polpo.nuota()\n",
    "polpo.muovi()"
   ]
  },
  {
   "cell_type": "markdown",
   "id": "656481c9",
   "metadata": {
    "slideshow": {
     "slide_type": "fragment"
    }
   },
   "source": [
    "Quindi vedete che il nostro polpo ha un mezzo in più"
   ]
  },
  {
   "cell_type": "code",
   "execution_count": 71,
   "id": "b1fd45e6",
   "metadata": {
    "slideshow": {
     "slide_type": "subslide"
    }
   },
   "outputs": [
    {
     "name": "stdout",
     "output_type": "stream",
     "text": [
      "Questo animale NON può andare sulla terraferma\n",
      "Questo animale nuota\n"
     ]
    }
   ],
   "source": [
    "class Animale_Acquatico(Animale_Anfibio):\n",
    "    def muovi(self):\n",
    "        print(\"Questo animale NON può andare sulla terraferma\")\n",
    "        self.nuota()\n",
    "        \n",
    "pesce_chirurgo = Animale_Acquatico(\"Pesce Chirurgo\", \"blub\")\n",
    "pesce_chirurgo.muovi()"
   ]
  },
  {
   "cell_type": "markdown",
   "id": "f4c2703a",
   "metadata": {
    "slideshow": {
     "slide_type": "fragment"
    }
   },
   "source": [
    "Qui invece vedete come è possibile usare l'ereditarietà anche per \"togliere\" delle funzionalità. \n",
    "\n",
    "Semplicemente facendo un override di un dato metodo impediamo il suo utilizzo."
   ]
  },
  {
   "cell_type": "markdown",
   "id": "c60cc1d2",
   "metadata": {
    "slideshow": {
     "slide_type": "slide"
    }
   },
   "source": [
    "## Limitare l'accesso\n",
    "\n",
    "Come fare per avere delle variabili private?"
   ]
  },
  {
   "cell_type": "code",
   "execution_count": 76,
   "id": "31d8a243",
   "metadata": {
    "slideshow": {
     "slide_type": "fragment"
    }
   },
   "outputs": [
    {
     "name": "stdout",
     "output_type": "stream",
     "text": [
      "5\n"
     ]
    }
   ],
   "source": [
    "class Animale_Anfibio(Animale):\n",
    "    def __init__(self, specie, verso, pinne):\n",
    "        super().__init__(specie, verso)\n",
    "        self.__pinne = pinne\n",
    "        \n",
    "    def nuota(self):\n",
    "        print(\"Questo animale nuota\")\n",
    "        \n",
    "    def get_pinne(self):\n",
    "        print(self.__pinne)\n",
    "        \n",
    "salmone = Animale_Anfibio(\"Salmone\", \"sushi\", 5)\n",
    "salmone.get_pinne()"
   ]
  },
  {
   "cell_type": "code",
   "execution_count": 77,
   "id": "283ae75b",
   "metadata": {
    "slideshow": {
     "slide_type": "subslide"
    }
   },
   "outputs": [
    {
     "ename": "AttributeError",
     "evalue": "'Animale_Anfibio' object has no attribute '__pinne'",
     "output_type": "error",
     "traceback": [
      "\u001b[0;31m---------------------------------------------------------------------------\u001b[0m",
      "\u001b[0;31mAttributeError\u001b[0m                            Traceback (most recent call last)",
      "\u001b[0;32m<ipython-input-77-157e0ebf4cdb>\u001b[0m in \u001b[0;36m<module>\u001b[0;34m\u001b[0m\n\u001b[0;32m----> 1\u001b[0;31m \u001b[0mprint\u001b[0m\u001b[0;34m(\u001b[0m\u001b[0msalmone\u001b[0m\u001b[0;34m.\u001b[0m\u001b[0m__pinne\u001b[0m\u001b[0;34m)\u001b[0m\u001b[0;34m\u001b[0m\u001b[0;34m\u001b[0m\u001b[0m\n\u001b[0m",
      "\u001b[0;31mAttributeError\u001b[0m: 'Animale_Anfibio' object has no attribute '__pinne'"
     ]
    }
   ],
   "source": [
    "print(salmone.__pinne)"
   ]
  },
  {
   "cell_type": "markdown",
   "id": "a92d518f",
   "metadata": {
    "slideshow": {
     "slide_type": "fragment"
    }
   },
   "source": [
    "Come vedete è proprio impossibile accedere dall'esterno al valore di pinne"
   ]
  },
  {
   "cell_type": "markdown",
   "id": "f8a72a1a",
   "metadata": {
    "slideshow": {
     "slide_type": "subslide"
    }
   },
   "source": [
    "Per scrivere i getter e i setter ci sono vari modi, questo che segue usa i decoratori standard\n",
    "\n",
    "Ovvero ```@property``` e ```@name.setter```"
   ]
  },
  {
   "cell_type": "code",
   "execution_count": 81,
   "id": "7ba2c741",
   "metadata": {
    "slideshow": {
     "slide_type": "subslide"
    }
   },
   "outputs": [
    {
     "name": "stdout",
     "output_type": "stream",
     "text": [
      "Hai usato il setter!\n",
      "Hai usato il getter!\n",
      "GeeksforGeeks\n"
     ]
    }
   ],
   "source": [
    "class Portal:\n",
    " \n",
    "    def __init__(self):\n",
    "        self.__name =''\n",
    "     \n",
    "    # Using @property decorator\n",
    "    @property\n",
    "     \n",
    "    # Getter method\n",
    "    def name(self):\n",
    "        print(\"Hai usato il getter!\")\n",
    "        return self.__name\n",
    "     \n",
    "    # Setter method\n",
    "    @name.setter\n",
    "    def name(self, val):\n",
    "        print(\"Hai usato il setter!\")\n",
    "        self.__name = val\n",
    "\n",
    "        \n",
    "p = Portal();\n",
    "\n",
    "p.name = 'GeeksforGeeks'\n",
    "\n",
    "print (p.name)"
   ]
  },
  {
   "cell_type": "markdown",
   "id": "8109751c",
   "metadata": {
    "slideshow": {
     "slide_type": "slide"
    }
   },
   "source": [
    "## Sfide!\n",
    "\n",
    "Passiamo ora alle sfide!\n",
    "\n",
    "## Nuka Cola Recipe 1/2\n",
    "\n",
    "Siete assunti per scrivere il software che gestisce il mixing e le ricette della famosa e mirabolante NukaCola Corporation. \n",
    "\n",
    "Dovete scrivere il software che rappresenta ogni ricetta a partire dalla BasicCola. \n",
    "\n",
    "La BasicCola è, appunto, la base di ogni altra ricetta. Traccia l'ammontare di acqua, zucchero e caffeina. L'acqua normalmente è sempre 300g (per le dosi da laboratorio). La ricetta deve essere in grado di stampare il proprio peso totale con un metodo appropriato."
   ]
  },
  {
   "cell_type": "markdown",
   "id": "b0696471",
   "metadata": {
    "slideshow": {
     "slide_type": "subslide"
    }
   },
   "source": [
    "## Nuka Cola Recipe 2/2\n",
    "La ricetta pià famosa ovviamente è quella della NukaCola, derivata dalla base grazie all'aggiunta dell'ingredienti segreto: il cesio. E' un additivo dal sapore energico *vagamente* radioattivo ma la gente ne va matta e quindi... \\spallucce :D\n",
    "\n",
    "Aggiungete al software un pezzo che permetta di modellare anche la ricetta della NukaCola che quindi tenga traccia del cesio. \n",
    "\n",
    "Per calcolare il peso totale della NukaCola però bisogna tenere a mente il decadimento radioattivo del cesio, perchè una bottiglia creata oggi o una creata 4 anni fa hanno un peso ben diverso. Per calcolare il peso occorre fare ```cesio * 0.97716^anni```\n",
    "\n",
    "### Scrivete il codice più breve possibile (con creanza!) che vi faccia avvantaggiare della struttura a classi!"
   ]
  },
  {
   "cell_type": "markdown",
   "id": "a2a4256a",
   "metadata": {
    "slideshow": {
     "slide_type": "subslide"
    }
   },
   "source": [
    "## La Caffetteria 1/2\n",
    "\n",
    "Scrivi una classe ```Caffetteria``` che abbia 3 variabili:\n",
    " - nome (stringa)\n",
    " - menu (lista di MenuItem)\n",
    " - ordini (array vuoto)\n",
    "\n",
    "Ogni MenuItem è composto da \n",
    " - nome\n",
    " - tipo (\"cibo\"/\"bevanda\")\n",
    " - prezzo"
   ]
  },
  {
   "cell_type": "markdown",
   "id": "a530b343",
   "metadata": {
    "slideshow": {
     "slide_type": "subslide"
    }
   },
   "source": [
    "## La Caffetteria 2/2\n",
    "Aggiungi alla Caffetteria questi sette metodi:\n",
    " - aggiungiOrdine, prende una tupla (MenuItem, numero_tavolo) e l'aggiunge agli ordini\n",
    " - completaOrdine, che prende il primo ordine nella lista e annuncia il suo completamento e poi lo toglie (se ordini è vuota lo scrive)\n",
    " - elencaOrdini, ritorna la lista degli ordini\n",
    " - totale, restituisce il conto di tutti i MenuItem nell'ordine\n",
    " - prezzoMinore, restituisce il MenuItem ordinato dal prezzo minore\n",
    " - bevandeOrdinate, ritorna i nomi delle bevande ordinate\n",
    " - cibiOrdinati, ritorna i nomi dei cibi ordinati"
   ]
  },
  {
   "cell_type": "markdown",
   "id": "f8fd155c",
   "metadata": {
    "slideshow": {
     "slide_type": "slide"
    }
   },
   "source": [
    "# Grazie mille!\n",
    "\n",
    "James Luca Bosotti *bosottiluca@gmail.com*\n"
   ]
  },
  {
   "cell_type": "markdown",
   "id": "fd017ef5",
   "metadata": {
    "slideshow": {
     "slide_type": "fragment"
    }
   },
   "source": [
    "Photo by Andre Mouton from Pexels: https://www.pexels.com/photo/closeup-photo-of-primate-1207875/\n",
    "\n",
    "Photo by Torsten Dettlaff: https://www.pexels.com/photo/lighting-strike-67102/"
   ]
  }
 ],
 "metadata": {
  "celltoolbar": "Slideshow",
  "kernelspec": {
   "display_name": "Python 3",
   "language": "python",
   "name": "python3"
  },
  "language_info": {
   "codemirror_mode": {
    "name": "ipython",
    "version": 3
   },
   "file_extension": ".py",
   "mimetype": "text/x-python",
   "name": "python",
   "nbconvert_exporter": "python",
   "pygments_lexer": "ipython3",
   "version": "3.8.10"
  },
  "toc": {
   "base_numbering": 1,
   "nav_menu": {},
   "number_sections": true,
   "sideBar": true,
   "skip_h1_title": false,
   "title_cell": "Table of Contents",
   "title_sidebar": "Contents",
   "toc_cell": false,
   "toc_position": {
    "height": "calc(100% - 180px)",
    "left": "10px",
    "top": "150px",
    "width": "384px"
   },
   "toc_section_display": true,
   "toc_window_display": true
  }
 },
 "nbformat": 4,
 "nbformat_minor": 5
}
