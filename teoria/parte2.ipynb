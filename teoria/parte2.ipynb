{
 "cells": [
  {
   "cell_type": "markdown",
   "id": "2bdb5503",
   "metadata": {
    "slideshow": {
     "slide_type": "slide"
    }
   },
   "source": [
    "# Python Base\n",
    "\n",
    "## Python Biella Group\n",
    "\n",
    "<br/>\n",
    "\n",
    "### Seconda serata, 10/10/2022\n",
    "\n",
    "Speaker: \n",
    "\n",
    "- David Leoni (Università di Trento - DISI, Dip. Informatica)\n",
    "- david.leoni@unitn.it\n",
    "\n",
    "Repository github per questi tutorial:\n",
    "- https://github.com/PythonBiellaGroup/PythonBase/tree/main/teoria \n",
    "\n",
    "Materiale tratto dal libro [SoftPython](https://it.softpython.org)\n",
    "\n",
    "* (Per anteprima slide premi `Esc`)"
   ]
  },
  {
   "cell_type": "markdown",
   "id": "ada7b419",
   "metadata": {
    "slideshow": {
     "slide_type": "subslide"
    }
   },
   "source": [
    "## Recap sfide prima puntata\n",
    "\n",
    "Vedere [link](https://pythonbiellagroup.github.io/PythonBase/teoria/parte1.slides.html#/11)"
   ]
  },
  {
   "cell_type": "markdown",
   "id": "9a663aad",
   "metadata": {
    "slideshow": {
     "slide_type": "slide"
    }
   },
   "source": [
    "## Controllo di flusso - `if`\n",
    "\n",
    "Come eseguire codice solo se una condizione è vera?\n",
    "\n",
    "**Riferimenti:** [SoftPython - if](https://it.softpython.org/if/if1-sol.html)"
   ]
  },
  {
   "cell_type": "code",
   "execution_count": 1,
   "id": "a6bde6e2",
   "metadata": {
    "slideshow": {
     "slide_type": "-"
    }
   },
   "outputs": [
    {
     "name": "stdout",
     "output_type": "stream",
     "text": [
      "fatto tutto !\n",
      "posso uscire di casa.\n",
      "Fine.\n"
     ]
    }
   ],
   "source": [
    "fatto_colazione, lavato_denti = True, True\n",
    "\n",
    "if fatto_colazione and lavato_denti:\n",
    "    print(\"fatto tutto !\")\n",
    "    print(\"posso uscire di casa.\")\n",
    "    \n",
    "print(\"Fine.\")    "
   ]
  },
  {
   "cell_type": "markdown",
   "id": "2a7ecf1a",
   "metadata": {
    "slideshow": {
     "slide_type": "fragment"
    }
   },
   "source": [
    "```python\n",
    "if ESPRESSIONE_BOOLEANA:\n",
    "    BLOCCO ISTRUZIONI\n",
    "```    "
   ]
  },
  {
   "cell_type": "markdown",
   "id": "343f23d4",
   "metadata": {
    "slideshow": {
     "slide_type": "subslide"
    }
   },
   "source": [
    "Cosa fare se la condizione è falsa?"
   ]
  },
  {
   "cell_type": "code",
   "execution_count": 2,
   "id": "d6e720cd",
   "metadata": {
    "slideshow": {
     "slide_type": "-"
    }
   },
   "outputs": [
    {
     "name": "stdout",
     "output_type": "stream",
     "text": [
      "NON posso uscire di casa.\n",
      "Fine.\n"
     ]
    }
   ],
   "source": [
    "fatto_colazione, lavato_denti = True, False\n",
    "\n",
    "if fatto_colazione and lavato_denti:\n",
    "    print(\"fatto tutto !\")\n",
    "    print(\"posso uscire di casa.\")\n",
    "else:\n",
    "    print(\"NON posso uscire di casa.\")\n",
    "\n",
    "print(\"Fine.\")"
   ]
  },
  {
   "cell_type": "markdown",
   "id": "b5403966",
   "metadata": {
    "slideshow": {
     "slide_type": "fragment"
    }
   },
   "source": [
    "\n",
    "```python\n",
    "if ESPRESSIONE_BOOLEANA:\n",
    "    BLOCCO ISTRUZIONI\n",
    "else:\n",
    "    ALTRO BLOCCO ISTRUZIONI    \n",
    "```    "
   ]
  },
  {
   "cell_type": "markdown",
   "id": "eb44b3ca",
   "metadata": {
    "slideshow": {
     "slide_type": "subslide"
    }
   },
   "source": [
    "### `if`: Attenzione\n",
    "\n",
    "<div class=\"alert alert-warning\">\n",
    "\n",
    "**RICORDATI I DUE PUNTI `:` ALLA FINE DELLA LINEA DEL FOR !!!**\n",
    "</div>"
   ]
  },
  {
   "cell_type": "markdown",
   "id": "7f1079f2",
   "metadata": {
    "slideshow": {
     "slide_type": "fragment"
    }
   },
   "source": [
    "<div class=\"alert alert-warning\">\n",
    "\n",
    "**Per indentare, usa SEMPRE 4 spazi bianchi**\n",
    "    \n",
    "Sequenze di 2 soli spazi per quanto consentite non sono raccomandate. \n",
    "</div>"
   ]
  },
  {
   "cell_type": "markdown",
   "id": "a7801fcb",
   "metadata": {
    "slideshow": {
     "slide_type": "fragment"
    }
   },
   "source": [
    "<div class=\"alert alert-warning\">\n",
    "\n",
    "**Il comportamento di TAB dipende dal tuo editor**\n",
    "\n",
    "A seconda dell'editor che usi, premendo TAB potresti ottenere:\n",
    "    \n",
    "- una sequenza di spazi bianchi (4 in Jupyter)\n",
    "- ...oppure un carattere speciale di tabulazione (da evitare)! \n",
    "    \n",
    "</div>"
   ]
  },
  {
   "cell_type": "markdown",
   "id": "2dc3c5e5",
   "metadata": {
    "slideshow": {
     "slide_type": "skip"
    }
   },
   "source": [
    "Per quanto noiosa questa distinzione ti possa apparire, ricordatela perchè potrebbe generare errori molto difficili da scoprire. "
   ]
  },
  {
   "cell_type": "markdown",
   "id": "e8dd6b60",
   "metadata": {
    "slideshow": {
     "slide_type": "skip"
    }
   },
   "source": [
    "**✪ ESERCIZIO**: prova a scrivere qui sotto a mano il programma di prima, ed eseguilo con Control+Invio. Prova a cambiare i valori da `True` a `False` e guarda che succede. \n",
    "\n",
    "Assicurati di provare tutti i casi:\n",
    "\n",
    "- True True\n",
    "- True False\n",
    "- False True\n",
    "- False False\n",
    "\n",
    "<div class=\"alert alert-warning\">\n",
    "\n",
    "**ATTENZIONE**: Ricordati i `:` alla fine della riga con `if` !!!!\n",
    "\n",
    "</div>"
   ]
  },
  {
   "cell_type": "code",
   "execution_count": 3,
   "id": "e3d500c9",
   "metadata": {
    "slideshow": {
     "slide_type": "skip"
    }
   },
   "outputs": [],
   "source": [
    "# scrivi qui\n",
    "\n"
   ]
  },
  {
   "cell_type": "markdown",
   "id": "d8ca7e0d",
   "metadata": {
    "slideshow": {
     "slide_type": "subslide"
    }
   },
   "source": [
    "### `if` - valori logici\n",
    "\n",
    "\n",
    "In Python, gli oggetti 'vuoti' hanno valore logico `False`:\n",
    "    \n",
    "- numero `0`, oggetto `None`, la stringa vuota `\"\"`, lista vuota `[]`, ..."
   ]
  },
  {
   "cell_type": "markdown",
   "id": "44355f8a",
   "metadata": {
    "slideshow": {
     "slide_type": "fragment"
    }
   },
   "source": [
    "Tutto ciò che non è 'vuoto' è considerato `True`: "
   ]
  },
  {
   "cell_type": "markdown",
   "id": "f570a0c8",
   "metadata": {
    "slideshow": {
     "slide_type": "fragment"
    }
   },
   "source": [
    "```python\n",
    "if ['Che', 'tempo', 'farà', 'domani?']:    \n",
    "    print(\"Sole!\")\n",
    "else:\n",
    "    print(\"Pioggia\")\n",
    "```"
   ]
  },
  {
   "cell_type": "markdown",
   "id": "9ea992d0",
   "metadata": {
    "colab": {
     "autoexec": {
      "startup": false,
      "wait_interval": 0
     }
    },
    "colab_type": "code",
    "id": "6GWu1jIUAFSd",
    "slideshow": {
     "slide_type": "fragment"
    }
   },
   "source": [
    "```\n",
    "Sole!\n",
    "```"
   ]
  },
  {
   "cell_type": "markdown",
   "id": "d370c95a",
   "metadata": {
    "slideshow": {
     "slide_type": "fragment"
    }
   },
   "source": [
    "**Per altre cose 'strane', vedere:** [SoftPython - Booleani - Ordine di valutazione](https://it.softpython.org/basics/basics2-bools-sol.html#Ordine-di-valutazione)"
   ]
  },
  {
   "cell_type": "markdown",
   "id": "1226ec52",
   "metadata": {
    "slideshow": {
     "slide_type": "subslide"
    }
   },
   "source": [
    "### `if` annidati\n",
    "\n",
    "Si può anche mettere un `if` dentro l'altro (_nested if_). "
   ]
  },
  {
   "cell_type": "markdown",
   "id": "6639f365",
   "metadata": {
    "slideshow": {
     "slide_type": "fragment"
    }
   },
   "source": [
    "Esempio (funziona esattamente come il precedente):"
   ]
  },
  {
   "cell_type": "code",
   "execution_count": 4,
   "id": "6b309a22",
   "metadata": {
    "slideshow": {
     "slide_type": "-"
    }
   },
   "outputs": [
    {
     "name": "stdout",
     "output_type": "stream",
     "text": [
      "fatto tutto !\n",
      "posso uscire di casa!\n"
     ]
    }
   ],
   "source": [
    "fatto_colazione, lavato_denti = True,True\n",
    "\n",
    "if fatto_colazione:\n",
    "    if lavato_denti:                        # NOTA: Questo blocco è indentato\n",
    "        print(\"fatto tutto !\")              #       rispetto all'if esterno\n",
    "        print(\"posso uscire di casa!\")      #\n",
    "    else:\n",
    "        print(\"NON posso uscire di casa\")\n",
    "else:\n",
    "    print(\"NON posso uscire di casa\")"
   ]
  },
  {
   "cell_type": "markdown",
   "id": "a2a31a4d",
   "metadata": {
    "slideshow": {
     "slide_type": "skip"
    }
   },
   "source": [
    "**✪ ESERCIZIO**: Prova a modificare il programma riportato nella cella precedente per fargli riportare lo stato delle varie azioni compiute. Elenchiamo qui i possibili casi e i risultati attesi:\n",
    "\n",
    "- True False\n",
    "\n",
    "```\n",
    "ho fatto colazione\n",
    "non ho lavato i denti\n",
    "NON posso uscire di casa\n",
    "```\n",
    "\n",
    "- False True\n",
    "- False False\n",
    "\n",
    "```\n",
    "non ho fatto colazione\n",
    "NON posso uscire di casa\n",
    "```\n",
    "\n",
    "- True True\n",
    "```\n",
    "ho fatto colazione\n",
    "ho lavato i denti\n",
    "fatto tutto !\n",
    "posso uscire di casa!\n",
    "```\n",
    "\n",
    "\n",
    "\n",
    "\n"
   ]
  },
  {
   "cell_type": "code",
   "execution_count": 5,
   "id": "caa0c187",
   "metadata": {
    "slideshow": {
     "slide_type": "skip"
    }
   },
   "outputs": [],
   "source": [
    "# scrivi qui\n"
   ]
  },
  {
   "cell_type": "markdown",
   "id": "a26185b4",
   "metadata": {
    "slideshow": {
     "slide_type": "skip"
    }
   },
   "source": [
    "**✪✪ ESERCIZIO**: prova a fare un programma che ti dice se puoi uscire di casa solo se  hai fatto colazione (per cui devi avere hai almeno un tipo di latte) e lavato i denti"
   ]
  },
  {
   "cell_type": "code",
   "execution_count": 6,
   "id": "c5f4979b",
   "metadata": {
    "slideshow": {
     "slide_type": "skip"
    }
   },
   "outputs": [],
   "source": [
    "ho_latte_intero = False\n",
    "ho_latte_scremato = True\n",
    "lavato_denti = False\n",
    "\n",
    "\n",
    "# scrivi qui\n",
    "\n"
   ]
  },
  {
   "cell_type": "markdown",
   "id": "abbcb1d9",
   "metadata": {
    "slideshow": {
     "slide_type": "skip"
    }
   },
   "source": [
    "✪✪ ESERCIZIO: prova a fare un programma che ti dice se puoi nuotare se NON hai fatto colazione E hai il salvagente\n",
    "\n",
    "Assicurati di provare tutti i casi:\n",
    "\n",
    "- True True\n",
    "- True False\n",
    "- False True\n",
    "- False False"
   ]
  },
  {
   "cell_type": "code",
   "execution_count": 8,
   "id": "c982b667",
   "metadata": {
    "slideshow": {
     "slide_type": "skip"
    }
   },
   "outputs": [],
   "source": [
    "\n",
    "hai_salvagente = True\n",
    "fatto_colazione = True\n",
    "\n",
    "# scrivi qui\n"
   ]
  },
  {
   "cell_type": "markdown",
   "id": "8832afdc",
   "metadata": {
    "slideshow": {
     "slide_type": "subslide"
    }
   },
   "source": [
    "### if in cascata:  `elif`"
   ]
  },
  {
   "cell_type": "code",
   "execution_count": 69,
   "id": "d8c5b55d",
   "metadata": {
    "slideshow": {
     "slide_type": "-"
    }
   },
   "outputs": [
    {
     "name": "stdout",
     "output_type": "stream",
     "text": [
      "poche caramelle!\n"
     ]
    }
   ],
   "source": [
    "caramelle = 3\n",
    "\n",
    "if caramelle > 10:\n",
    "    print('tante caramelle!')\n",
    "elif caramelle > 5:\n",
    "    print('abbastanza caramelle!')\n",
    "elif caramelle > 0:\n",
    "    print('poche caramelle!')    \n",
    "else:\n",
    "    print('Non ci sono caramelle!')"
   ]
  },
  {
   "cell_type": "code",
   "execution_count": 70,
   "id": "9a931519",
   "metadata": {
    "slideshow": {
     "slide_type": "fragment"
    }
   },
   "outputs": [
    {
     "name": "stdout",
     "output_type": "stream",
     "text": [
      "Non ci sono caramelle!\n"
     ]
    }
   ],
   "source": [
    "caramelle = 0\n",
    "\n",
    "if caramelle > 10:\n",
    "    print('tante caramelle!')\n",
    "elif caramelle > 5:\n",
    "    print('abbastanza caramelle!')\n",
    "elif caramelle > 0:\n",
    "    print('poche caramelle!')    \n",
    "else:\n",
    "    print('Non ci sono caramelle!')"
   ]
  },
  {
   "cell_type": "markdown",
   "id": "34c3b68f",
   "metadata": {
    "slideshow": {
     "slide_type": "subslide"
    }
   },
   "source": [
    "## Costrutto `match` (menzione)\n",
    "\n",
    "```python3\n",
    "oggetto = \"Voglio un caffè\"\n",
    "\n",
    "match oggetto:\n",
    "    case \"Voglio un caffè\":\n",
    "        print(\"Preparo la moka...\")\n",
    "    case \"Voglio una brioche\":\n",
    "        print(\"Scaldo la brioche..\")\n",
    "    case altro:\n",
    "        print(\"Non ho capito cos'è\", altro)\n",
    "```\n",
    "```\n",
    "Preparo la moka...\n",
    "```"
   ]
  },
  {
   "cell_type": "markdown",
   "id": "091a0d85",
   "metadata": {
    "slideshow": {
     "slide_type": "fragment"
    }
   },
   "source": [
    "- per evitare di scrivere `if` complicati\n",
    "- molto flessibile e potente\n",
    "- **SOLO da Python** $\\geq$ 3.10"
   ]
  },
  {
   "cell_type": "markdown",
   "id": "090bb847",
   "metadata": {
    "colab_type": "text",
    "id": "y1_ipl04AFYh",
    "slideshow": {
     "slide_type": "slide"
    }
   },
   "source": [
    "## Iterazione\n",
    "\n",
    "Come compiere azioni su ogni elemento di una sequenza?\n"
   ]
  },
  {
   "cell_type": "markdown",
   "id": "9c5d620f",
   "metadata": {
    "slideshow": {
     "slide_type": "fragment"
    }
   },
   "source": [
    "Cicli `for` \n",
    "- list comprehension\n",
    "\n",
    "Cicli `while`\n",
    "\n",
    "**Riferimenti**: [SoftPython - controllo di flusso](https://it.softpython.org/#for)"
   ]
  },
  {
   "cell_type": "markdown",
   "id": "9d8f9145",
   "metadata": {
    "slideshow": {
     "slide_type": "subslide"
    }
   },
   "source": [
    "## Iterazione - Cicli for"
   ]
  },
  {
   "cell_type": "code",
   "execution_count": 11,
   "id": "6e727286",
   "metadata": {
    "colab": {
     "autoexec": {
      "startup": false,
      "wait_interval": 0
     },
     "output_extras": [
      {}
     ]
    },
    "colab_type": "code",
    "id": "dvT2rnbBAFYi",
    "outputId": "e5deee14-f728-4236-9a21-0cb13531897e",
    "slideshow": {
     "slide_type": "-"
    }
   },
   "outputs": [
    {
     "name": "stdout",
     "output_type": "stream",
     "text": [
      "Nella lista ci sono:\n",
      "cani\n",
      "Nella lista ci sono:\n",
      "gatti\n",
      "Nella lista ci sono:\n",
      "scoiattoli\n"
     ]
    }
   ],
   "source": [
    "animali = ['cani', 'gatti', 'scoiattoli']\n",
    "\n",
    "for animale in animali:\n",
    "    print(\"Nella lista ci sono:\")\n",
    "    print(animale)"
   ]
  },
  {
   "cell_type": "markdown",
   "id": "f46f77cb",
   "metadata": {
    "colab_type": "text",
    "id": "aYoeEiXoAFYn",
    "slideshow": {
     "slide_type": "fragment"
    }
   },
   "source": [
    "- abbiamo definito la variabile `animale` "
   ]
  },
  {
   "cell_type": "markdown",
   "id": "613a8813",
   "metadata": {
    "slideshow": {
     "slide_type": "fragment"
    }
   },
   "source": [
    "- per ogni elemento nella lista `animali`: \n",
    "\n",
    "    - la variabile `animale` assume il valore dell'elemento\n",
    "    - vengono eseguite le istruzioni dentro il blocco"
   ]
  },
  {
   "cell_type": "markdown",
   "id": "52e59f1c",
   "metadata": {
    "colab_type": "text",
    "id": "wnbHtwz7AFYo",
    "slideshow": {
     "slide_type": "skip"
    }
   },
   "source": [
    "**✪ ESERCIZIO**: Proviamo a capire meglio tutti gli _Attenzione_ qua sopra. Scrivi qui sotto il `for` con gli animali di prima (niente copia e incolla!), vedi se funziona. Ricordati di usare 4 spazi per le indentazioni. \n",
    "\n",
    "- Poi prova a togliere i due punti alla fine e vedi che errore ti da Python\n",
    "- Riaggiungi i due punti, e adesso prova a variare l'indentazione. Prova a mettere due spazi all'inizio di entrambi i print, vedi se esegue\n",
    "- Adesso prova a mettere due spazi prima del primo print e 4 spazi prima del secondo, e vedi se esegue"
   ]
  },
  {
   "cell_type": "code",
   "execution_count": 12,
   "id": "9eaefba8",
   "metadata": {
    "colab": {
     "autoexec": {
      "startup": false,
      "wait_interval": 0
     }
    },
    "colab_type": "code",
    "id": "STgILuUEAFYr",
    "slideshow": {
     "slide_type": "skip"
    }
   },
   "outputs": [],
   "source": [
    "# scrivi qui - copia il for di sopra\n"
   ]
  },
  {
   "cell_type": "markdown",
   "id": "8a726197",
   "metadata": {
    "colab_type": "text",
    "id": "4JM8nJYtAFYx",
    "slideshow": {
     "slide_type": "subslide"
    }
   },
   "source": [
    "### Sequenza `range`"
   ]
  },
  {
   "cell_type": "code",
   "execution_count": 13,
   "id": "33830426",
   "metadata": {
    "slideshow": {
     "slide_type": "-"
    }
   },
   "outputs": [
    {
     "data": {
      "text/plain": [
       "range(0, 5)"
      ]
     },
     "execution_count": 13,
     "metadata": {},
     "output_type": "execute_result"
    }
   ],
   "source": [
    "range(5)"
   ]
  },
  {
   "cell_type": "markdown",
   "id": "f2ab0aea",
   "metadata": {
    "slideshow": {
     "slide_type": "fragment"
    }
   },
   "source": [
    "`range(n)` rappresenta una sequenza con i primi numeri da `0` incluso a `n` _escluso_"
   ]
  },
  {
   "cell_type": "markdown",
   "id": "888e7f35",
   "metadata": {
    "slideshow": {
     "slide_type": "fragment"
    }
   },
   "source": [
    "la sequenza è 'congelata'"
   ]
  },
  {
   "cell_type": "markdown",
   "id": "122ad12b",
   "metadata": {
    "slideshow": {
     "slide_type": "fragment"
    }
   },
   "source": [
    "Per materializzare i numeri, convertire esplicitamente a `list`:"
   ]
  },
  {
   "cell_type": "code",
   "execution_count": 14,
   "id": "4265e2b7",
   "metadata": {
    "slideshow": {
     "slide_type": "-"
    }
   },
   "outputs": [
    {
     "data": {
      "text/plain": [
       "[0, 1, 2, 3, 4]"
      ]
     },
     "execution_count": 14,
     "metadata": {},
     "output_type": "execute_result"
    }
   ],
   "source": [
    "list(range(5))"
   ]
  },
  {
   "cell_type": "markdown",
   "id": "65c752e7",
   "metadata": {
    "slideshow": {
     "slide_type": "subslide"
    }
   },
   "source": [
    "### for in range\n",
    "\n",
    "Come incrementare un contatore ad ogni ciclo?\n",
    "\n",
    "Possiamo usare `range`\n",
    "\n",
    "Il `for` scorre automaticamente la sequenza:"
   ]
  },
  {
   "cell_type": "code",
   "execution_count": 15,
   "id": "8bc42863",
   "metadata": {
    "colab": {
     "autoexec": {
      "startup": false,
      "wait_interval": 0
     },
     "output_extras": [
      {}
     ]
    },
    "colab_type": "code",
    "id": "AKaswfGQAFYy",
    "outputId": "7110d199-e29a-4c79-9ff6-c04a1b64bb63",
    "slideshow": {
     "slide_type": "-"
    }
   },
   "outputs": [
    {
     "name": "stdout",
     "output_type": "stream",
     "text": [
      "0\n",
      "1\n",
      "2\n",
      "3\n",
      "4\n"
     ]
    }
   ],
   "source": [
    "for indice in range(5):\n",
    "    print(indice)"
   ]
  },
  {
   "cell_type": "markdown",
   "id": "10e1e426",
   "metadata": {
    "slideshow": {
     "slide_type": "subslide"
    }
   },
   "source": [
    "### A cosa serve `for in range`? 1/2\n",
    "\n",
    "Per leggere da una lista possiamo usare gli indici:"
   ]
  },
  {
   "cell_type": "code",
   "execution_count": 16,
   "id": "8ab019e7",
   "metadata": {
    "slideshow": {
     "slide_type": "-"
    }
   },
   "outputs": [
    {
     "name": "stdout",
     "output_type": "stream",
     "text": [
      "cani\n",
      "gatti\n",
      "scoiattoli\n"
     ]
    }
   ],
   "source": [
    "animali = ['cani', 'gatti', 'scoiattoli']\n",
    "\n",
    "for indice in range(len(animali)):        \n",
    "    print(animali[indice])"
   ]
  },
  {
   "cell_type": "markdown",
   "id": "9245c08d",
   "metadata": {
    "colab_type": "text",
    "id": "Z5jrBwStAFZQ",
    "slideshow": {
     "slide_type": "subslide"
    }
   },
   "source": [
    "### A cosa serve `for in range`? 2/2\n",
    "\n",
    "Per MODIFICARE celle esistenti di una lista, **dobbiamo** usare gli indici:"
   ]
  },
  {
   "cell_type": "code",
   "execution_count": 17,
   "id": "ecf802ff",
   "metadata": {
    "slideshow": {
     "slide_type": "-"
    }
   },
   "outputs": [
    {
     "name": "stdout",
     "output_type": "stream",
     "text": [
      "['CANI', 'GATTI', 'SCOIATTOLI']\n"
     ]
    }
   ],
   "source": [
    "animali = ['cani', 'gatti', 'scoiattoli']\n",
    "\n",
    "for indice in range(len(animali)):    \n",
    "    animali[indice] = animali[indice].upper()  \n",
    "    \n",
    "print(animali)    "
   ]
  },
  {
   "cell_type": "markdown",
   "id": "662b3c15",
   "metadata": {
    "slideshow": {
     "slide_type": "fragment"
    }
   },
   "source": [
    "Senza indici, non funziona:"
   ]
  },
  {
   "cell_type": "code",
   "execution_count": 18,
   "id": "dc58bc12",
   "metadata": {
    "slideshow": {
     "slide_type": "-"
    }
   },
   "outputs": [
    {
     "name": "stdout",
     "output_type": "stream",
     "text": [
      "['cani', 'gatti', 'scoiattoli']\n"
     ]
    }
   ],
   "source": [
    "animali = ['cani', 'gatti', 'scoiattoli']\n",
    "\n",
    "for animale in animali:\n",
    "    animale = animale.upper()  # SBAGLIATO, NON FA NULLA\n",
    "print(animali)    "
   ]
  },
  {
   "cell_type": "markdown",
   "id": "43403dcb",
   "metadata": {
    "slideshow": {
     "slide_type": "subslide"
    }
   },
   "source": [
    "<div class=\"alert alert-info\" >\n",
    "\n",
    "**COMANDAMENTO: Non aggiungerai o toglierai mai elementi da una sequenza che iteri con un** `for` **!**\n",
    "</div>"
   ]
  },
  {
   "cell_type": "code",
   "execution_count": 19,
   "id": "e3bf216d",
   "metadata": {
    "slideshow": {
     "slide_type": "-"
    }
   },
   "outputs": [
    {
     "data": {
      "text/plain": [
       "['b', 'd']"
      ]
     },
     "execution_count": 19,
     "metadata": {},
     "output_type": "execute_result"
    }
   ],
   "source": [
    "lista = ['a','b','c','d','e']\n",
    "\n",
    "for el in lista:\n",
    "    lista.remove(el)   # PESSIMA IDEA\n",
    "\n",
    "lista  # RISULTATO IMPREVEDIBILE  !!!!"
   ]
  },
  {
   "cell_type": "markdown",
   "id": "fb8e091c",
   "metadata": {
    "slideshow": {
     "slide_type": "-"
    }
   },
   "source": [
    "**Per saperne di più**: [SoftPython - Modificare durante l'iterazione](https://it.softpython.org/for/for1-intro-sol.html#Modificare-durante-l'iterazione)"
   ]
  },
  {
   "cell_type": "markdown",
   "id": "31807c88",
   "metadata": {
    "colab_type": "text",
    "id": "BbNGWT5PeX_x",
    "slideshow": {
     "slide_type": "subslide"
    }
   },
   "source": [
    "### List comprehension\n",
    "\n",
    "Espressione per generare una NUOVA lista a partire da una sequenza"
   ]
  },
  {
   "cell_type": "code",
   "execution_count": 20,
   "id": "721d2532",
   "metadata": {
    "colab": {
     "autoexec": {
      "startup": false,
      "wait_interval": 0
     }
    },
    "colab_type": "code",
    "id": "I7fl60rudyTU",
    "slideshow": {
     "slide_type": "-"
    }
   },
   "outputs": [
    {
     "data": {
      "text/plain": [
       "['CANI', 'GATTI', 'SCOIATTOLI', 'ALCI']"
      ]
     },
     "execution_count": 20,
     "metadata": {},
     "output_type": "execute_result"
    }
   ],
   "source": [
    "animali = ['cani', 'gatti', 'scoiattoli', 'alci']\n",
    "\n",
    "nuova_lista = [animale.upper() for animale in animali  ]\n",
    "\n",
    "nuova_lista"
   ]
  },
  {
   "cell_type": "code",
   "execution_count": 21,
   "id": "260d3a22",
   "metadata": {
    "slideshow": {
     "slide_type": "fragment"
    }
   },
   "outputs": [
    {
     "data": {
      "text/plain": [
       "['cani', 'gatti', 'scoiattoli', 'alci']"
      ]
     },
     "execution_count": 21,
     "metadata": {},
     "output_type": "execute_result"
    }
   ],
   "source": [
    "animali"
   ]
  },
  {
   "cell_type": "markdown",
   "id": "0cffc97e",
   "metadata": {
    "slideshow": {
     "slide_type": "fragment"
    }
   },
   "source": [
    "```python\n",
    "[ ESPRESSIONE for VARIABILE in SEQUENZA ] \n",
    "```\n",
    "\n",
    "- Sintassi imita le liste\n",
    "- esegue la stessa operazione su tutti gli elementi di una sequenza\n",
    "\n",
    "**Riferimenti**: [SoftPython - Sequenze](https://it.softpython.org/sequences/sequences1-sol.html#List-comprehensions)"
   ]
  },
  {
   "cell_type": "markdown",
   "id": "407491af",
   "metadata": {
    "colab_type": "text",
    "id": "wJkXW0NulL8I",
    "slideshow": {
     "slide_type": "subslide"
    }
   },
   "source": [
    "**Per filtrare con le comprehension**: "
   ]
  },
  {
   "cell_type": "code",
   "execution_count": 22,
   "id": "24f72c6d",
   "metadata": {
    "colab": {
     "autoexec": {
      "startup": false,
      "wait_interval": 0
     },
     "base_uri": "https://localhost:8080/",
     "height": 34,
     "output_extras": [
      {
       "item_id": 1
      }
     ]
    },
    "colab_type": "code",
    "executionInfo": {
     "elapsed": 562,
     "status": "ok",
     "timestamp": 1519052514136,
     "user": {
      "displayName": "David Leoni",
      "photoUrl": "https://lh3.googleusercontent.com/a/default-user=s128",
      "userId": "102920557909426557439"
     },
     "user_tz": -60
    },
    "id": "3j3N8Z16lKDW",
    "outputId": "ee544608-9e3a-4918-f6a3-716081ad8b8a",
    "slideshow": {
     "slide_type": "-"
    }
   },
   "outputs": [
    {
     "data": {
      "text/plain": [
       "['CANI', 'ALCI']"
      ]
     },
     "execution_count": 22,
     "metadata": {},
     "output_type": "execute_result"
    }
   ],
   "source": [
    "animali = ['cani', 'gatti', 'scoiattoli', 'alci']\n",
    "\n",
    "[animale.upper() for animale in animali if len(animale) == 4]"
   ]
  },
  {
   "cell_type": "markdown",
   "id": "91440c9e",
   "metadata": {
    "slideshow": {
     "slide_type": "-"
    }
   },
   "source": [
    "- aggiungere un `if ESPRESSIONE_BOOLEANA` speciale alla fine"
   ]
  },
  {
   "cell_type": "markdown",
   "id": "a3f6cd51",
   "metadata": {
    "slideshow": {
     "slide_type": "slide"
    }
   },
   "source": [
    "## Iterazione - Ciclo while"
   ]
  },
  {
   "cell_type": "code",
   "execution_count": 23,
   "id": "39e53c03",
   "metadata": {
    "scrolled": true,
    "slideshow": {
     "slide_type": "-"
    }
   },
   "outputs": [
    {
     "name": "stdout",
     "output_type": "stream",
     "text": [
      "Ho contato fino a 1\n",
      "Ho contato fino a 2\n",
      "Ho contato fino a 3\n",
      "Ciclo finito !\n"
     ]
    }
   ],
   "source": [
    "i = 1\n",
    "\n",
    "while i < 4:\n",
    "    print('Ho contato fino a', i)\n",
    "    i += 1\n",
    "    \n",
    "print('Ciclo finito !')"
   ]
  },
  {
   "cell_type": "markdown",
   "id": "cead90d4",
   "metadata": {
    "slideshow": {
     "slide_type": "fragment"
    }
   },
   "source": [
    "Blocco di codice eseguito ripetutamente fintantochè una condizione booleana è vera\n",
    "\n",
    "**Riferimenti**: [SoftPython - cicli while](https://it.softpython.org/while/while1-sol.html)"
   ]
  },
  {
   "cell_type": "markdown",
   "id": "c009d6c2",
   "metadata": {
    "slideshow": {
     "slide_type": "subslide"
    }
   },
   "source": [
    "### Quando usare `while`?\n",
    "\n",
    "Tipicamente per\n",
    "\n",
    "- effettuare ricerche in una sequenza"
   ]
  },
  {
   "cell_type": "markdown",
   "id": "aa38d843",
   "metadata": {
    "slideshow": {
     "slide_type": "fragment"
    }
   },
   "source": [
    "- aggiungere/togliere elementi dalla sequenza che si sta iterando"
   ]
  },
  {
   "cell_type": "markdown",
   "id": "4c84e343",
   "metadata": {
    "slideshow": {
     "slide_type": "fragment"
    }
   },
   "source": [
    "- cicli infiniti"
   ]
  },
  {
   "cell_type": "markdown",
   "id": "b164cdc3",
   "metadata": {
    "slideshow": {
     "slide_type": "fragment"
    }
   },
   "source": [
    "Altrimenti, consigliamo il `for`\n",
    "\n",
    "Riferimenti: [SoftPython - while - Modificare sequenze](https://it.softpython.org/while/while1-sol.html#Modificare-sequenze)"
   ]
  },
  {
   "cell_type": "markdown",
   "id": "8146645f",
   "metadata": {
    "slideshow": {
     "slide_type": "subslide"
    }
   },
   "source": [
    "### Esempio `while` - cerca e togli in sequenza\n",
    "\n",
    "Pesca carte da `mazzo` (da destra) finchè trova cuori"
   ]
  },
  {
   "cell_type": "code",
   "execution_count": 24,
   "id": "f572b124",
   "metadata": {
    "slideshow": {
     "slide_type": "-"
    }
   },
   "outputs": [],
   "source": [
    "mazzo = ['3 di cuori','2 di picche','9 di cuori','5 di quadri','8 di fiori']\n",
    "carta = ''"
   ]
  },
  {
   "cell_type": "code",
   "execution_count": 25,
   "id": "8b9119a7",
   "metadata": {
    "slideshow": {
     "slide_type": "fragment"
    }
   },
   "outputs": [
    {
     "name": "stdout",
     "output_type": "stream",
     "text": [
      "mazzo: ['3 di cuori', '2 di picche', '9 di cuori', '5 di quadri', '8 di fiori']\n",
      "pescato 8 di fiori\n",
      "mazzo: ['3 di cuori', '2 di picche', '9 di cuori', '5 di quadri']\n",
      "pescato 5 di quadri\n",
      "mazzo: ['3 di cuori', '2 di picche', '9 di cuori']\n",
      "pescato 9 di cuori\n",
      "mazzo: ['3 di cuori', '2 di picche']\n",
      "Uscito dal ciclo!\n"
     ]
    }
   ],
   "source": [
    "print(\"mazzo:\", mazzo)\n",
    "while len(mazzo) > 0 and 'cuori' not in carta:\n",
    "    carta = mazzo.pop()  # rimuove ultima carta dal mazzo        \n",
    "    print(\"pescato\", carta)\n",
    "    print(\"mazzo:\", mazzo)\n",
    "    \n",
    "print(\"Uscito dal ciclo!\")"
   ]
  },
  {
   "cell_type": "markdown",
   "id": "a6853e61",
   "metadata": {
    "slideshow": {
     "slide_type": "subslide"
    }
   },
   "source": [
    "## Iterazione - Performance\n",
    "\n",
    "Python è un linguaggio intepretato -> lento.."
   ]
  },
  {
   "cell_type": "markdown",
   "id": "84f3ca5d",
   "metadata": {
    "slideshow": {
     "slide_type": "fragment"
    }
   },
   "source": [
    "\n",
    "Solo _dove serve_ ottimizzare:\n",
    "\n",
    "- evitare cicli e usare librerie specializzate\n",
    "  \n",
    "    (vedi tutorial [numpy](https://it.softpython.org/matrices-numpy/matrices-numpy1-sol.html), [pandas](https://it.softpython.org/pandas/pandas1-sol.html), ..)"
   ]
  },
  {
   "cell_type": "markdown",
   "id": "1ef0666f",
   "metadata": {
    "slideshow": {
     "slide_type": "fragment"
    }
   },
   "source": [
    "- oppure compilare Python 'ristretto' in C  ([Cython](https://cython.org/), [Mypyc](https://github.com/mypyc/mypyc), ...)"
   ]
  },
  {
   "cell_type": "markdown",
   "id": "880f9277",
   "metadata": {
    "slideshow": {
     "slide_type": "slide"
    }
   },
   "source": [
    "## Iterazione - sfide\n",
    "\n",
    "- Testo storto (`for`)\n",
    "- Trivellum  (`while`)"
   ]
  },
  {
   "cell_type": "markdown",
   "id": "altered-purchase",
   "metadata": {
    "slideshow": {
     "slide_type": "subslide"
    }
   },
   "source": [
    "### Sfida - testo storto\n",
    "\n",
    "✪✪ Requisiti: stringhe, liste, if, for\n",
    "\n",
    "Dato un testo di caratteri con diversa capitalizzazione, metti nella variabile `tradotto` il testo con la capitalizzazione invertita e poi STAMPALO\n",
    "\n",
    "* **SUGGERIMENTO**: per verificare se un carattere è minuscolo, usa il metodo `.islower()`\n",
    "\n",
    "Esempio - dato:\n",
    "    \n",
    "```python    \n",
    "testo = \"CiAo QuEsTo E' uN TeStO sToRto\"\n",
    "```\n",
    "    \n",
    "dopo il tuo codice dovrebbe risultare:\n",
    "    \n",
    "```python\n",
    ">>> print(tradotto)\n",
    "cIaO qUeStO e' Un tEsTo StOrTO\n",
    "```"
   ]
  },
  {
   "cell_type": "code",
   "execution_count": 26,
   "id": "asian-wrist",
   "metadata": {
    "slideshow": {
     "slide_type": "-"
    }
   },
   "outputs": [],
   "source": [
    "\n",
    "testo = \"CiAo QuEsTo E' uN TeStO sToRto\"   # cIaO qUeStO e' Un tEsTo StOrTO\n",
    "#testo = \"gInGillo\"                        # GiNgILLO\n",
    "tradotto = ''\n",
    "\n",
    "# scrivi qui"
   ]
  },
  {
   "cell_type": "markdown",
   "id": "6d97e082",
   "metadata": {
    "slideshow": {
     "slide_type": "subslide"
    }
   },
   "source": [
    "### Sfida - Trivellum\n",
    "\n",
    "✪✪ La compagnia mineraria Trivellum ha scoperto un `pozzo` di cobalto<!--,un minerale raro e indispensabile nella produzione di batterie al litio che si trovano ormai in ogni dispositivo portatile-->. Nel pozzo si trovano diversi strati, ognuno contenente una lega di diversa composizione: una volta trivellato, lo strato viene suddiviso in blocchi che vengono poi issati su un `carrello` per il successivo trasporto.\n",
    "\n",
    "Scrivi del codice che **MODIFICA** la variabile `pozzo` togliendo gli strati, e **MODIFICA** la variabile `carrello` aggiungendo i vari blocchi scavati.\n",
    "\n",
    "* **USA** un ciclo `while`\n",
    "* **STAMPA** i vari passaggi\n",
    "* **NON** riassegnare `pozzo` nè `carrello` (quindi niente `pozzo = ...` o `carrello = ...`)\n",
    "\n",
    "**vedi slide successiva...**"
   ]
  },
  {
   "cell_type": "markdown",
   "id": "33d9500f",
   "metadata": {
    "slideshow": {
     "slide_type": "subslide"
    }
   },
   "source": [
    "Esempio - dati:\n",
    "\n",
    "```python\n",
    "pozzo = ['███','▓▓▓','▒▒▒', '░░░']    # <-- cima del pozzo\n",
    "carrello = []\n",
    "```\n",
    "\n",
    "Il tuo programma deve stampare:\n",
    "\n",
    "```\n",
    "il pozzo è: ['███', '▓▓▓', '▒▒▒', '░░░']\n",
    "Trivello lo strato ░░░ e lo divido nei blocchi ['░', '░', '░']\n",
    "\n",
    "il pozzo è: ['███', '▓▓▓', '▒▒▒']\n",
    "Trivello lo strato ▒▒▒ e lo divido nei blocchi ['▒', '▒', '▒']\n",
    "\n",
    "il pozzo è: ['███', '▓▓▓']\n",
    "Trivello lo strato ▓▓▓ e lo divido nei blocchi ['▓', '▓', '▓']\n",
    "\n",
    "il pozzo è: ['███']\n",
    "Trivello lo strato ███ e lo divido nei blocchi ['█', '█', '█']\n",
    "\n",
    "Il pozzo finale è   : []\n",
    "Il carrello finale è: ['░', '░', '░', '▒', '▒', '▒', '▓', '▓', '▓', '█', '█', '█']\n",
    "```"
   ]
  },
  {
   "cell_type": "code",
   "execution_count": 27,
   "id": "eabc91ba",
   "metadata": {
    "slideshow": {
     "slide_type": "-"
    }
   },
   "outputs": [],
   "source": [
    "carrello = []\n",
    "pozzo = ['███','▓▓▓','▒▒▒', '░░░']  # <-- cima del pozzo\n",
    "\n",
    "#pozzo = ['┼┼','┤├','┐┌', '╗╔', '║║']  #  ['║', '║', '╗', '╔', '┐', '┌', '┤', '├', '┼', '┼']\n",
    "\n",
    "# scrivi qui\n"
   ]
  },
  {
   "cell_type": "markdown",
   "id": "1b3a03d7",
   "metadata": {
    "colab_type": "text",
    "id": "BeFkQO8VH16f",
    "slideshow": {
     "slide_type": "slide"
    }
   },
   "source": [
    "## Funzioni\n",
    "\n",
    "Una funzione prende dei parametri e li usa per effettuare cambiamenti nel sistema o produrre qualche risultato.\n",
    "\n",
    "**Riferimenti**: [SoftPython - funzioni](https://it.softpython.org/#functions)"
   ]
  },
  {
   "cell_type": "code",
   "execution_count": 28,
   "id": "7cd6ffa3",
   "metadata": {
    "colab": {
     "autoexec": {
      "startup": false,
      "wait_interval": 0
     }
    },
    "colab_type": "code",
    "id": "JHBncVarIG0a",
    "slideshow": {
     "slide_type": "-"
    }
   },
   "outputs": [],
   "source": [
    "def mia_stampa(x,y):   \n",
    "    print('Ora stamperemo la somma di due numeri')\n",
    "    print('La somma è %s' % (x + y))    "
   ]
  },
  {
   "cell_type": "markdown",
   "id": "58428ac0",
   "metadata": {
    "colab_type": "text",
    "id": "4qODhc9qIQVZ",
    "slideshow": {
     "slide_type": "fragment"
    }
   },
   "source": [
    "Possiamo chiamare la funzione così:"
   ]
  },
  {
   "cell_type": "code",
   "execution_count": 29,
   "id": "881b3703",
   "metadata": {
    "colab": {
     "autoexec": {
      "startup": false,
      "wait_interval": 0
     },
     "base_uri": "https://localhost:8080/",
     "height": 52,
     "output_extras": [
      {
       "item_id": 1
      }
     ]
    },
    "colab_type": "code",
    "executionInfo": {
     "elapsed": 477,
     "status": "ok",
     "timestamp": 1519045245334,
     "user": {
      "displayName": "David Leoni",
      "photoUrl": "https://lh3.googleusercontent.com/a/default-user=s128",
      "userId": "102920557909426557439"
     },
     "user_tz": -60
    },
    "id": "I0xzUz41IIpG",
    "outputId": "91e139d0-6249-41a4-d6d8-de59ab9c00ba",
    "slideshow": {
     "slide_type": "-"
    }
   },
   "outputs": [
    {
     "name": "stdout",
     "output_type": "stream",
     "text": [
      "Ora stamperemo la somma di due numeri\n",
      "La somma è 8\n"
     ]
    }
   ],
   "source": [
    "mia_stampa(3,5)"
   ]
  },
  {
   "cell_type": "markdown",
   "id": "f10043d0",
   "metadata": {
    "slideshow": {
     "slide_type": "fragment"
    }
   },
   "source": [
    "Per definire una funzione, possiamo usare la parola chiave `def`: \n",
    "\n",
    "Ricordati i due punti `:` alla fine della riga !!"
   ]
  },
  {
   "cell_type": "markdown",
   "id": "6e3d9b5d",
   "metadata": {
    "slideshow": {
     "slide_type": "skip"
    }
   },
   "source": [
    "Vediamo meglio che succede con Python Tutor: "
   ]
  },
  {
   "cell_type": "markdown",
   "id": "b9cd3465",
   "metadata": {
    "slideshow": {
     "slide_type": "subslide"
    }
   },
   "source": [
    "[Vedi in Python Tutor](https://pythontutor.com/render.html#code=def%20mia_stampa%28x,y%29%3A%20%20%20%20%23%20RICORDATI%20I%20DUE%20PUNTI%20'%3A'%20ALLA%20FINE%20DELLA%20RIGA%20!!!!!%0A%20%20%20%20print%28'Ora%20stamperemo%20la%20somma%20di%20due%20numeri'%29%0A%20%20%20%20print%28'La%20somma%20%C3%A8%20%25s'%20%25%20%28x%20%2B%20y%29%29%0A%0Amia_stampa%283,5%29&cumulative=false&curInstr=0&heapPrimitives=nevernest&mode=display&origin=opt-frontend.js&py=3&rawInputLstJSON=%5B%5D&textReferences=false)\n",
    "\n",
    "<iframe width=\"800\" height=\"500\" frameborder=\"0\" src=\"https://pythontutor.com/iframe-embed.html#code=def%20mia_stampa%28x,y%29%3A%20%20%20%20%23%20RICORDATI%20I%20DUE%20PUNTI%20'%3A'%20ALLA%20FINE%20DELLA%20RIGA%20!!!!!%0A%20%20%20%20print%28'Ora%20stamperemo%20la%20somma%20di%20due%20numeri'%29%0A%20%20%20%20print%28'La%20somma%20%C3%A8%20%25s'%20%25%20%28x%20%2B%20y%29%29%0A%0Amia_stampa%283,5%29&codeDivHeight=400&codeDivWidth=350&cumulative=false&curInstr=0&heapPrimitives=nevernest&origin=opt-frontend.js&py=3&rawInputLstJSON=%5B%5D&textReferences=false\"> </iframe>"
   ]
  },
  {
   "cell_type": "markdown",
   "id": "9936b6ea",
   "metadata": {
    "colab_type": "text",
    "id": "TNftj3qzJWgv",
    "slideshow": {
     "slide_type": "subslide"
    }
   },
   "source": [
    "### Side effects\n",
    "\n",
    "Una funzione ha _side effects_ quando modifica l'ambiente\n",
    "\n",
    "Esempi:\n",
    "\n",
    "- illuminare i pixel sullo schermo con `print`"
   ]
  },
  {
   "cell_type": "markdown",
   "id": "862917d8",
   "metadata": {
    "slideshow": {
     "slide_type": "fragment"
    }
   },
   "source": [
    "- scrivere su file"
   ]
  },
  {
   "cell_type": "markdown",
   "id": "c9c61235",
   "metadata": {
    "slideshow": {
     "slide_type": "fragment"
    }
   },
   "source": [
    "- richiedere input manuale all'utente"
   ]
  },
  {
   "cell_type": "markdown",
   "id": "5551fdff",
   "metadata": {
    "slideshow": {
     "slide_type": "subslide"
    }
   },
   "source": [
    "### Funzione che RITORNA un valore"
   ]
  },
  {
   "cell_type": "code",
   "execution_count": 30,
   "id": "b058b2e6",
   "metadata": {
    "colab": {
     "autoexec": {
      "startup": false,
      "wait_interval": 0
     }
    },
    "colab_type": "code",
    "id": "FN9Ek84QIZdK",
    "slideshow": {
     "slide_type": "-"
    }
   },
   "outputs": [],
   "source": [
    "def mia_somma(x,y):\n",
    "    s = x + y\n",
    "    return s    "
   ]
  },
  {
   "cell_type": "code",
   "execution_count": 31,
   "id": "8af5572f",
   "metadata": {
    "slideshow": {
     "slide_type": "fragment"
    }
   },
   "outputs": [],
   "source": [
    "risultato = mia_somma(3,5)"
   ]
  },
  {
   "cell_type": "code",
   "execution_count": 32,
   "id": "20e6c9b3",
   "metadata": {
    "slideshow": {
     "slide_type": "-"
    }
   },
   "outputs": [
    {
     "data": {
      "text/plain": [
       "8"
      ]
     },
     "execution_count": 32,
     "metadata": {},
     "output_type": "execute_result"
    }
   ],
   "source": [
    "risultato"
   ]
  },
  {
   "cell_type": "markdown",
   "id": "77a694de",
   "metadata": {
    "slideshow": {
     "slide_type": "fragment"
    }
   },
   "source": [
    "Per restituire un valore usabile _fuori_ dalla funzione:\n",
    "\n",
    "usa la parola chiave `return` seguita da una ESPRESSIONE"
   ]
  },
  {
   "cell_type": "markdown",
   "id": "5c5ef8a2",
   "metadata": {
    "slideshow": {
     "slide_type": "subslide"
    }
   },
   "source": [
    "[Vedi in Python Tutor](https://pythontutor.com/render.html#code=def%20mia_somma%28x,y%29%3A%0A%20%20%20%20s%20%3D%20x%20%2B%20y%0A%20%20%20%20return%20s%20%20%20%20%0A%20%20%20%20%0Arisultato%20%3D%20mia_somma%283,5%29%0Aprint%28risultato%29&cumulative=false&curInstr=0&heapPrimitives=nevernest&mode=display&origin=opt-frontend.js&py=3&rawInputLstJSON=%5B%5D&textReferences=false)\n",
    "\n",
    "<iframe width=\"800\" height=\"500\" frameborder=\"0\" src=\"https://pythontutor.com/iframe-embed.html#code=def%20mia_somma%28x,y%29%3A%0A%20%20%20%20s%20%3D%20x%20%2B%20y%0A%20%20%20%20return%20s%20%20%20%20%0A%20%20%20%20%0Arisultato%20%3D%20mia_somma%283,5%29%0Aprint%28risultato%29&codeDivHeight=400&codeDivWidth=350&cumulative=false&curInstr=0&heapPrimitives=nevernest&origin=opt-frontend.js&py=3&rawInputLstJSON=%5B%5D&textReferences=false\"> </iframe>"
   ]
  },
  {
   "cell_type": "markdown",
   "id": "2ecb3246",
   "metadata": {
    "slideshow": {
     "slide_type": "subslide"
    }
   },
   "source": [
    "### E se ci dimentichiamo il `return` ?\n"
   ]
  },
  {
   "cell_type": "code",
   "execution_count": 33,
   "id": "22a3b4cf",
   "metadata": {
    "slideshow": {
     "slide_type": "-"
    }
   },
   "outputs": [],
   "source": [
    "def mia_somma_sbagliata(x,y):\n",
    "    x + y    \n",
    "\n",
    "risultato = mia_somma_sbagliata(5,3)"
   ]
  },
  {
   "cell_type": "code",
   "execution_count": 34,
   "id": "32ba151a",
   "metadata": {},
   "outputs": [],
   "source": [
    "risultato  # Jupyter non mostra niente!"
   ]
  },
  {
   "cell_type": "code",
   "execution_count": 35,
   "id": "2a8c5df2",
   "metadata": {
    "slideshow": {
     "slide_type": "fragment"
    }
   },
   "outputs": [
    {
     "name": "stdout",
     "output_type": "stream",
     "text": [
      "None\n"
     ]
    }
   ],
   "source": [
    "print(risultato)  # forziamo stampa con print"
   ]
  },
  {
   "cell_type": "code",
   "execution_count": 36,
   "id": "c1e566fe",
   "metadata": {
    "slideshow": {
     "slide_type": "fragment"
    }
   },
   "outputs": [
    {
     "name": "stdout",
     "output_type": "stream",
     "text": [
      "8\n"
     ]
    }
   ],
   "source": [
    "def mia_somma_corretta(x,y):\n",
    "    return x + y  \n",
    "\n",
    "risultato = mia_somma_corretta(5,3)\n",
    "print(risultato)"
   ]
  },
  {
   "cell_type": "markdown",
   "id": "7203aa3b",
   "metadata": {
    "slideshow": {
     "slide_type": "subslide"
    }
   },
   "source": [
    "### Funzioni che MODIFICANO input"
   ]
  },
  {
   "cell_type": "code",
   "execution_count": 37,
   "id": "84d3226e",
   "metadata": {
    "slideshow": {
     "slide_type": "-"
    }
   },
   "outputs": [],
   "source": [
    "def ordina(lista):\n",
    "    \"\"\"MODIFICA lista in modo che sia ordinata in-place\n",
    "    \"\"\"\n",
    "    lista.sort()\n",
    "\n",
    "numeri = [7,4,9,8]\n",
    "\n",
    "ordina(numeri)"
   ]
  },
  {
   "cell_type": "code",
   "execution_count": 38,
   "id": "9b1e4b55",
   "metadata": {
    "slideshow": {
     "slide_type": "fragment"
    }
   },
   "outputs": [
    {
     "name": "stdout",
     "output_type": "stream",
     "text": [
      "[4, 7, 8, 9]\n"
     ]
    }
   ],
   "source": [
    "print(numeri)"
   ]
  },
  {
   "cell_type": "markdown",
   "id": "36a4ae90",
   "metadata": {
    "slideshow": {
     "slide_type": "subslide"
    }
   },
   "source": [
    "[Vedi in Python Tutor](https://pythontutor.com/render.html#code=def%20ordina%28lista%29%3A%0A%20%20%20%20%22%22%22MODIFICA%20lista%20in%20modo%20che%20sia%20ordinata%20in-place%0A%20%20%20%20%22%22%22%0A%20%20%20%20lista.sort%28%29%0A%0Anumeri%20%3D%20%5B7,4,9,8%5D%0A%0Aordina%28numeri%29%0Aprint%28numeri%29&cumulative=false&curInstr=0&heapPrimitives=nevernest&mode=display&origin=opt-frontend.js&py=3&rawInputLstJSON=%5B%5D&textReferences=false)\n",
    "\n",
    "<iframe width=\"800\" height=\"500\" frameborder=\"0\" src=\"https://pythontutor.com/iframe-embed.html#code=def%20ordina%28lista%29%3A%0A%20%20%20%20%22%22%22MODIFICA%20lista%20in%20modo%20che%20sia%20ordinata%20in-place%0A%20%20%20%20%22%22%22%0A%20%20%20%20lista.sort%28%29%0A%0Anumeri%20%3D%20%5B7,4,9,8%5D%0A%0Aordina%28numeri%29%0Aprint%28numeri%29&codeDivHeight=400&codeDivWidth=350&cumulative=false&curInstr=0&heapPrimitives=nevernest&origin=opt-frontend.js&py=3&rawInputLstJSON=%5B%5D&textReferences=false\"> </iframe>"
   ]
  },
  {
   "cell_type": "markdown",
   "id": "9218d442",
   "metadata": {
    "slideshow": {
     "slide_type": "subslide"
    }
   },
   "source": [
    "### Funzioni che MODIFICANO input e RITORNANO"
   ]
  },
  {
   "cell_type": "code",
   "execution_count": 39,
   "id": "349769f2",
   "metadata": {
    "slideshow": {
     "slide_type": "-"
    }
   },
   "outputs": [],
   "source": [
    "def pesca(lista):\n",
    "    \"\"\"MODIFICA lista rimuovendo l'ultimo elemento e lo RITORNA\n",
    "    \"\"\"    \n",
    "    return lista.pop()\n",
    "\n",
    "mazzo = [\"9 di quadri\",\"4 di picche\",\"6 di cuori\",\"7 di fiori\"]\n",
    "\n",
    "carta = pesca(mazzo)"
   ]
  },
  {
   "cell_type": "code",
   "execution_count": 40,
   "id": "cd8e535f",
   "metadata": {
    "slideshow": {
     "slide_type": "fragment"
    }
   },
   "outputs": [
    {
     "name": "stdout",
     "output_type": "stream",
     "text": [
      "7 di fiori\n"
     ]
    }
   ],
   "source": [
    "print(carta)"
   ]
  },
  {
   "cell_type": "code",
   "execution_count": 41,
   "id": "05e37204",
   "metadata": {
    "slideshow": {
     "slide_type": "fragment"
    }
   },
   "outputs": [
    {
     "name": "stdout",
     "output_type": "stream",
     "text": [
      "['9 di quadri', '4 di picche', '6 di cuori']\n"
     ]
    }
   ],
   "source": [
    "print(mazzo)"
   ]
  },
  {
   "cell_type": "markdown",
   "id": "b294a9e1",
   "metadata": {
    "slideshow": {
     "slide_type": "subslide"
    }
   },
   "source": [
    "[Vedi in Python Tutor](https://pythontutor.com/render.html#code=def%20pesca%28lista%29%3A%0A%20%20%20%20%22%22%22MODIFICA%20lista%20rimuovendo%20l'ultimo%20elemento%20e%20lo%20RITORNA%0A%20%20%20%20%22%22%22%20%20%20%20%0A%20%20%20%20return%20lista.pop%28%29%0A%0Amazzo%20%3D%20%5B%229%20di%20quadri%22,%224%20di%20picche%22,%226%20di%20cuori%22,%227%20di%20fiori%22%5D%0A%0Acarta%20%3D%20pesca%28mazzo%29%0Aprint%28carta%29%0Aprint%28mazzo%29&cumulative=false&curInstr=0&heapPrimitives=nevernest&mode=display&origin=opt-frontend.js&py=3&rawInputLstJSON=%5B%5D&textReferences=false)\n",
    "\n",
    "<iframe width=\"800\" height=\"500\" frameborder=\"0\" src=\"https://pythontutor.com/iframe-embed.html#code=def%20pesca%28lista%29%3A%0A%20%20%20%20%22%22%22MODIFICA%20lista%20rimuovendo%20l'ultimo%20elemento%20e%20lo%20RITORNA%0A%20%20%20%20%22%22%22%20%20%20%20%0A%20%20%20%20return%20lista.pop%28%29%0A%0Amazzo%20%3D%20%5B%229%20di%20quadri%22,%224%20di%20picche%22,%226%20di%20cuori%22,%227%20di%20fiori%22%5D%0A%0Acarta%20%3D%20pesca%28mazzo%29%0Aprint%28carta%29%0Aprint%28mazzo%29&codeDivHeight=400&codeDivWidth=350&cumulative=false&curInstr=0&heapPrimitives=nevernest&origin=opt-frontend.js&py=3&rawInputLstJSON=%5B%5D&textReferences=false\"> </iframe>"
   ]
  },
  {
   "cell_type": "markdown",
   "id": "1eee4395",
   "metadata": {
    "slideshow": {
     "slide_type": "subslide"
    }
   },
   "source": [
    "### Argomenti keyword\n",
    "\n",
    "Si possono aggiungere argomenti di default _alla fine_:"
   ]
  },
  {
   "cell_type": "code",
   "execution_count": 42,
   "id": "496ffb53",
   "metadata": {
    "slideshow": {
     "slide_type": "-"
    }
   },
   "outputs": [],
   "source": [
    "def ripeti(stringa, volte=3):    \n",
    "    return stringa * volte"
   ]
  },
  {
   "cell_type": "markdown",
   "id": "0881d260",
   "metadata": {
    "slideshow": {
     "slide_type": "fragment"
    }
   },
   "source": [
    "Quando si chiama la funzione si può:"
   ]
  },
  {
   "cell_type": "code",
   "execution_count": 43,
   "id": "818bedee",
   "metadata": {
    "slideshow": {
     "slide_type": "-"
    }
   },
   "outputs": [
    {
     "data": {
      "text/plain": [
       "'RotolaRotolaRotola'"
      ]
     },
     "execution_count": 43,
     "metadata": {},
     "output_type": "execute_result"
    }
   ],
   "source": [
    "ripeti('Rotola')             # omettere l'argomento di default"
   ]
  },
  {
   "cell_type": "code",
   "execution_count": 44,
   "id": "34f12034",
   "metadata": {
    "slideshow": {
     "slide_type": "fragment"
    }
   },
   "outputs": [
    {
     "data": {
      "text/plain": [
       "'RotolaRotolaRotolaRotolaRotolaRotolaRotola'"
      ]
     },
     "execution_count": 44,
     "metadata": {},
     "output_type": "execute_result"
    }
   ],
   "source": [
    "ripeti(\"Rotola\", volte=7)    # specificarlo per nome"
   ]
  },
  {
   "cell_type": "code",
   "execution_count": 45,
   "id": "88811f61",
   "metadata": {
    "slideshow": {
     "slide_type": "fragment"
    }
   },
   "outputs": [
    {
     "data": {
      "text/plain": [
       "'RotolaRotola'"
      ]
     },
     "execution_count": 45,
     "metadata": {},
     "output_type": "execute_result"
    }
   ],
   "source": [
    "ripeti(\"Rotola\",  2)         # scriverlo direttamente"
   ]
  },
  {
   "cell_type": "markdown",
   "id": "d4af1641",
   "metadata": {
    "slideshow": {
     "slide_type": "slide"
    }
   },
   "source": [
    "### Argomenti keyword mutabili 1/2\n",
    "\n",
    "<div class=\"alert alert-warning\">\n",
    "    \n",
    "**ATTENZIONE: NON mettere argomenti di defaut mutabili**\n",
    "    \n",
    "Lo stesso oggetto verrà condiviso da tutte le invocazioni della funzione!\n",
    "    \n",
    "</div>    "
   ]
  },
  {
   "cell_type": "code",
   "execution_count": 46,
   "id": "f323eda4",
   "metadata": {
    "slideshow": {
     "slide_type": "fragment"
    }
   },
   "outputs": [],
   "source": [
    "def tragedia(lista=[]):\n",
    "    lista.append('occhio!')\n",
    "    print(lista)"
   ]
  },
  {
   "cell_type": "code",
   "execution_count": 47,
   "id": "68f17016",
   "metadata": {
    "slideshow": {
     "slide_type": "fragment"
    }
   },
   "outputs": [
    {
     "name": "stdout",
     "output_type": "stream",
     "text": [
      "['occhio!']\n"
     ]
    }
   ],
   "source": [
    "tragedia()  # prima invocazione: sembra a posto.."
   ]
  },
  {
   "cell_type": "code",
   "execution_count": 48,
   "id": "ab910def",
   "metadata": {
    "slideshow": {
     "slide_type": "fragment"
    }
   },
   "outputs": [
    {
     "name": "stdout",
     "output_type": "stream",
     "text": [
      "['occhio!', 'occhio!']\n"
     ]
    }
   ],
   "source": [
    "tragedia()  # seconda invocazione: guai!"
   ]
  },
  {
   "cell_type": "markdown",
   "id": "ff0aca48",
   "metadata": {},
   "source": [
    "### Argomenti keyword mutabili 2/2"
   ]
  },
  {
   "cell_type": "code",
   "execution_count": 49,
   "id": "ffd58c0b",
   "metadata": {
    "slideshow": {
     "slide_type": "subslide"
    }
   },
   "outputs": [
    {
     "name": "stdout",
     "output_type": "stream",
     "text": [
      "['ok']\n"
     ]
    }
   ],
   "source": [
    "def meglio(lista=None):\n",
    "    if lista == None:\n",
    "        lista = []\n",
    "    lista.append('ok')\n",
    "    print(lista)\n",
    "        \n",
    "meglio()  # prima invocazione"
   ]
  },
  {
   "cell_type": "code",
   "execution_count": 50,
   "id": "180e839f",
   "metadata": {
    "slideshow": {
     "slide_type": "fragment"
    }
   },
   "outputs": [
    {
     "name": "stdout",
     "output_type": "stream",
     "text": [
      "['ok']\n"
     ]
    }
   ],
   "source": [
    "meglio()  # seconda invocazione"
   ]
  },
  {
   "cell_type": "markdown",
   "id": "070c4b9f",
   "metadata": {
    "slideshow": {
     "slide_type": "subslide"
    }
   },
   "source": [
    "### Variabili esterne\n",
    "\n",
    "Da dentro una funzione, possiamo _leggere_ variabili esterne:"
   ]
  },
  {
   "cell_type": "code",
   "execution_count": 51,
   "id": "594ec16e",
   "metadata": {
    "slideshow": {
     "slide_type": "-"
    }
   },
   "outputs": [],
   "source": [
    "muro = \"bianco\"\n",
    "\n",
    "def guarda():    \n",
    "    print('Vedo un muro', muro)         "
   ]
  },
  {
   "cell_type": "code",
   "execution_count": 52,
   "id": "cc5cdacc",
   "metadata": {
    "slideshow": {
     "slide_type": "fragment"
    }
   },
   "outputs": [
    {
     "name": "stdout",
     "output_type": "stream",
     "text": [
      "Vedo un muro bianco\n"
     ]
    }
   ],
   "source": [
    "guarda()"
   ]
  },
  {
   "cell_type": "markdown",
   "id": "6af94bab",
   "metadata": {
    "slideshow": {
     "slide_type": "subslide"
    }
   },
   "source": [
    "### Variabili esterne: problemi\n",
    "\n",
    "\n",
    "Ma se proviamo a _riassegnare_, Python crea una NUOVA variabile!"
   ]
  },
  {
   "cell_type": "code",
   "execution_count": 53,
   "id": "55237351",
   "metadata": {
    "slideshow": {
     "slide_type": "-"
    }
   },
   "outputs": [],
   "source": [
    "muro = \"bianco\"\n",
    "\n",
    "def dipingi():                 \n",
    "    print('Dipingo....')        \n",
    "    muro = 'arancione'   # OCCHIO\n",
    "    print('Esco')    "
   ]
  },
  {
   "cell_type": "code",
   "execution_count": 54,
   "id": "6dd8c4f9",
   "metadata": {
    "slideshow": {
     "slide_type": "fragment"
    }
   },
   "outputs": [
    {
     "name": "stdout",
     "output_type": "stream",
     "text": [
      "Dipingo....\n",
      "Esco\n",
      "Adesso il muro è bianco\n"
     ]
    }
   ],
   "source": [
    "dipingi()\n",
    "print('Adesso il muro è', muro)  "
   ]
  },
  {
   "cell_type": "markdown",
   "id": "f5fb6887",
   "metadata": {
    "slideshow": {
     "slide_type": "subslide"
    }
   },
   "source": [
    "[Vedi in Python Tutor](https://pythontutor.com/render.html#code=muro%20%3D%20%22bianco%22%0A%0Adef%20dipingi%28%29%3A%20%20%20%20%20%20%20%20%20%20%20%20%20%20%20%20%20%0A%20%20%20%20print%28'Dipingo....'%29%20%20%20%20%20%20%20%20%0A%20%20%20%20muro%20%3D%20'arancione'%20%20%20%23%20OCCHIO%0A%20%20%20%20print%28'Esco'%29%20%20%0A%20%20%20%20%0Adipingi%28%29%0A%0Aprint%28'Adesso%20il%20muro%20%C3%A8',%20muro%29&cumulative=false&curInstr=0&heapPrimitives=nevernest&mode=display&origin=opt-frontend.js&py=3&rawInputLstJSON=%5B%5D&textReferences=false)\n",
    "\n",
    "<iframe width=\"800\" height=\"500\" frameborder=\"0\" src=\"https://pythontutor.com/iframe-embed.html#code=muro%20%3D%20%22bianco%22%0A%0Adef%20dipingi%28%29%3A%20%20%20%20%20%20%20%20%20%20%20%20%20%20%20%20%20%0A%20%20%20%20print%28'Dipingo....'%29%20%20%20%20%20%20%20%20%0A%20%20%20%20muro%20%3D%20'arancione'%20%20%20%23%20OCCHIO%0A%20%20%20%20print%28'Esco'%29%20%20%0A%20%20%20%20%0Adipingi%28%29%0A%0Aprint%28'Adesso%20il%20muro%20%C3%A8',%20muro%29&codeDivHeight=400&codeDivWidth=350&cumulative=false&curInstr=0&heapPrimitives=nevernest&origin=opt-frontend.js&py=3&rawInputLstJSON=%5B%5D&textReferences=false\"> </iframe>"
   ]
  },
  {
   "cell_type": "markdown",
   "id": "09bdc90f",
   "metadata": {
    "slideshow": {
     "slide_type": "subslide"
    }
   },
   "source": [
    "### Variabili esterne: `global`\n",
    "\n",
    "Per evitare problemi, bisogna dichiarare la variabile esterna come `global`:"
   ]
  },
  {
   "cell_type": "code",
   "execution_count": 55,
   "id": "d463a9b5",
   "metadata": {
    "slideshow": {
     "slide_type": "-"
    }
   },
   "outputs": [
    {
     "name": "stdout",
     "output_type": "stream",
     "text": [
      "Dipingo....\n",
      "Esco\n",
      "Adesso il muro è arancione\n"
     ]
    }
   ],
   "source": [
    "muro = \"bianco\"\n",
    "\n",
    "def dipingi():        \n",
    "    global muro          # CORRETTO \n",
    "    print('Dipingo....')        \n",
    "    muro = 'arancione'   \n",
    "    print('Esco')\n",
    "    \n",
    "dipingi()\n",
    "print('Adesso il muro è', muro) "
   ]
  },
  {
   "cell_type": "markdown",
   "id": "63eb6648",
   "metadata": {
    "slideshow": {
     "slide_type": "subslide"
    }
   },
   "source": [
    "[Vedi in Python Tutor](https://pythontutor.com/render.html#code=muro%20%3D%20%22bianco%22%0A%0Adef%20dipingi%28%29%3A%20%20%20%20%20%20%20%20%0A%20%20%20%20global%20muro%20%20%20%20%20%20%20%20%20%20%23%20CORRETTO%20%0A%20%20%20%20print%28'Dipingo....'%29%20%20%20%20%20%20%20%20%0A%20%20%20%20muro%20%3D%20'arancione'%20%20%20%0A%20%20%20%20print%28'Esco'%29%0A%20%20%20%20%0Adipingi%28%29%0A%0Aprint%28'Adesso%20il%20muro%20%C3%A8',%20muro%29&cumulative=false&curInstr=0&heapPrimitives=nevernest&mode=display&origin=opt-frontend.js&py=3&rawInputLstJSON=%5B%5D&textReferences=false)\n",
    "\n",
    "<iframe width=\"800\" height=\"500\" frameborder=\"0\" src=\"https://pythontutor.com/iframe-embed.html#code=muro%20%3D%20%22bianco%22%0A%0Adef%20dipingi%28%29%3A%20%20%20%20%20%20%20%20%0A%20%20%20%20global%20muro%20%20%20%20%20%20%20%20%20%20%23%20CORRETTO%20%0A%20%20%20%20print%28'Dipingo....'%29%20%20%20%20%20%20%20%20%0A%20%20%20%20muro%20%3D%20'arancione'%20%20%20%0A%20%20%20%20print%28'Esco'%29%0A%20%20%20%20%0Adipingi%28%29%0A%0Aprint%28'Adesso%20il%20muro%20%C3%A8',%20muro%29&codeDivHeight=400&codeDivWidth=350&cumulative=false&curInstr=0&heapPrimitives=nevernest&origin=opt-frontend.js&py=3&rawInputLstJSON=%5B%5D&textReferences=false\"> </iframe>"
   ]
  },
  {
   "cell_type": "markdown",
   "id": "460ca6bb",
   "metadata": {
    "colab_type": "text",
    "id": "4X1oP2z2Nz4z",
    "slideshow": {
     "slide_type": "slide"
    }
   },
   "source": [
    "## Funzioni lambda\n",
    "\n",
    "Che cos'è una funzione? Un oggetto\n",
    "\n",
    "Esempio: funzione `len`"
   ]
  },
  {
   "cell_type": "code",
   "execution_count": 56,
   "id": "42654d67",
   "metadata": {
    "colab": {
     "autoexec": {
      "startup": false,
      "wait_interval": 0
     },
     "base_uri": "https://localhost:8080/",
     "height": 34,
     "output_extras": [
      {
       "item_id": 1
      }
     ]
    },
    "colab_type": "code",
    "executionInfo": {
     "elapsed": 500,
     "status": "ok",
     "timestamp": 1519046536040,
     "user": {
      "displayName": "David Leoni",
      "photoUrl": "https://lh3.googleusercontent.com/a/default-user=s128",
      "userId": "102920557909426557439"
     },
     "user_tz": -60
    },
    "id": "El31mlUNOoRX",
    "outputId": "24ca6750-254e-4062-f24a-6850eb7af742",
    "slideshow": {
     "slide_type": "-"
    }
   },
   "outputs": [
    {
     "data": {
      "text/plain": [
       "<function len(obj, /)>"
      ]
     },
     "execution_count": 56,
     "metadata": {},
     "output_type": "execute_result"
    }
   ],
   "source": [
    "len"
   ]
  },
  {
   "cell_type": "code",
   "execution_count": 57,
   "id": "c1c37a98",
   "metadata": {
    "slideshow": {
     "slide_type": "fragment"
    }
   },
   "outputs": [
    {
     "data": {
      "text/plain": [
       "4"
      ]
     },
     "execution_count": 57,
     "metadata": {},
     "output_type": "execute_result"
    }
   ],
   "source": [
    "len(\"rosa\")         # invocazione"
   ]
  },
  {
   "cell_type": "markdown",
   "id": "aa5bd059",
   "metadata": {
    "colab_type": "text",
    "id": "ENEMhfSiOrUM",
    "slideshow": {
     "slide_type": "subslide"
    }
   },
   "source": [
    "Proviamo a creare una var `mia_var` che punta all'_oggetto_ `len`: "
   ]
  },
  {
   "cell_type": "code",
   "execution_count": 58,
   "id": "72dc20d4",
   "metadata": {
    "colab": {
     "autoexec": {
      "startup": false,
      "wait_interval": 0
     }
    },
    "colab_type": "code",
    "id": "6S-wDPTYOJUO",
    "slideshow": {
     "slide_type": "-"
    }
   },
   "outputs": [],
   "source": [
    "mia_var = len"
   ]
  },
  {
   "cell_type": "markdown",
   "id": "3c4e60c2",
   "metadata": {
    "colab_type": "text",
    "id": "PX1hxxoOOUJg",
    "slideshow": {
     "slide_type": "fragment"
    }
   },
   "source": [
    "**NOTA**: _non_ abbiamo aggiunto parametri a `len`!"
   ]
  },
  {
   "cell_type": "markdown",
   "id": "31c1a1ed",
   "metadata": {
    "slideshow": {
     "slide_type": "fragment"
    }
   },
   "source": [
    "Adesso possiamo usare `mia_var` esattamente come usiamo la funzione `len`:"
   ]
  },
  {
   "cell_type": "code",
   "execution_count": 59,
   "id": "1322b9f2",
   "metadata": {
    "colab": {
     "autoexec": {
      "startup": false,
      "wait_interval": 0
     },
     "base_uri": "https://localhost:8080/",
     "height": 34,
     "output_extras": [
      {
       "item_id": 1
      }
     ]
    },
    "colab_type": "code",
    "executionInfo": {
     "elapsed": 649,
     "status": "ok",
     "timestamp": 1519046587953,
     "user": {
      "displayName": "David Leoni",
      "photoUrl": "https://lh3.googleusercontent.com/a/default-user=s128",
      "userId": "102920557909426557439"
     },
     "user_tz": -60
    },
    "id": "Lh6V_SAeOS3O",
    "outputId": "efd81d20-9aa9-40b4-8540-ac5d6f45ea6d",
    "slideshow": {
     "slide_type": "-"
    }
   },
   "outputs": [
    {
     "data": {
      "text/plain": [
       "4"
      ]
     },
     "execution_count": 59,
     "metadata": {},
     "output_type": "execute_result"
    }
   ],
   "source": [
    "mia_var(\"rosa\")"
   ]
  },
  {
   "cell_type": "markdown",
   "id": "378312cd",
   "metadata": {
    "colab_type": "text",
    "id": "Q3CoQlvZPWTG",
    "slideshow": {
     "slide_type": "subslide"
    }
   },
   "source": [
    "### Funzioni lambda - esempio\n",
    "\n",
    "Per creare una funzione 'al volo', usa la parola chiave `lambda`:"
   ]
  },
  {
   "cell_type": "code",
   "execution_count": 60,
   "id": "2eaed396",
   "metadata": {
    "colab": {
     "autoexec": {
      "startup": false,
      "wait_interval": 0
     }
    },
    "colab_type": "code",
    "id": "uXGgflBePBlW",
    "slideshow": {
     "slide_type": "-"
    }
   },
   "outputs": [
    {
     "data": {
      "text/plain": [
       "<function __main__.<lambda>(x, y)>"
      ]
     },
     "execution_count": 60,
     "metadata": {},
     "output_type": "execute_result"
    }
   ],
   "source": [
    "lambda x, y: x + y"
   ]
  },
  {
   "cell_type": "markdown",
   "id": "1fc7a253",
   "metadata": {
    "slideshow": {
     "slide_type": "fragment"
    }
   },
   "source": [
    "- **NON** c'è il `def`\n",
    "- **NON** bisogna mettere `return`\n",
    "- **DEVE** stare su una riga sola"
   ]
  },
  {
   "cell_type": "markdown",
   "id": "108b3d57",
   "metadata": {
    "slideshow": {
     "slide_type": "fragment"
    }
   },
   "source": [
    "Una funzione `lambda` è un oggetto -> si può assegnare ad una variabile:"
   ]
  },
  {
   "cell_type": "code",
   "execution_count": 61,
   "id": "30d66191",
   "metadata": {
    "slideshow": {
     "slide_type": "-"
    }
   },
   "outputs": [],
   "source": [
    "mia_somma = lambda x, y: x + y"
   ]
  },
  {
   "cell_type": "code",
   "execution_count": 62,
   "id": "41a7cae6",
   "metadata": {
    "slideshow": {
     "slide_type": "-"
    }
   },
   "outputs": [
    {
     "data": {
      "text/plain": [
       "8"
      ]
     },
     "execution_count": 62,
     "metadata": {},
     "output_type": "execute_result"
    }
   ],
   "source": [
    "mia_somma(3,5)"
   ]
  },
  {
   "cell_type": "markdown",
   "id": "5cb2c86d",
   "metadata": {
    "slideshow": {
     "slide_type": "subslide"
    }
   },
   "source": [
    "### funzioni lambda e def\n",
    "\n",
    "Queste due scritture sono completamente equivalenti:"
   ]
  },
  {
   "cell_type": "code",
   "execution_count": 63,
   "id": "ff8112fd",
   "metadata": {
    "slideshow": {
     "slide_type": "-"
    }
   },
   "outputs": [],
   "source": [
    "def mia_somma(x, y):\n",
    "    return x + y"
   ]
  },
  {
   "cell_type": "code",
   "execution_count": 64,
   "id": "8f438edb",
   "metadata": {
    "slideshow": {
     "slide_type": "-"
    }
   },
   "outputs": [],
   "source": [
    "mia_somma = lambda x, y: x + y"
   ]
  },
  {
   "cell_type": "markdown",
   "id": "8cc9c56b",
   "metadata": {
    "slideshow": {
     "slide_type": "subslide"
    }
   },
   "source": [
    "### Esempio: sorted e lambda\n",
    "\n",
    "Aspettative di vita di animali:"
   ]
  },
  {
   "cell_type": "code",
   "execution_count": 65,
   "id": "b21a357c",
   "metadata": {
    "slideshow": {
     "slide_type": "-"
    }
   },
   "outputs": [],
   "source": [
    "animali = [('cane', 12), \n",
    "           ('gatto', 14), \n",
    "           ('pellicano', 30), \n",
    "           ('acquila', 25), \n",
    "           ('scoiattolo', 6)]"
   ]
  },
  {
   "cell_type": "markdown",
   "id": "f993c1a5",
   "metadata": {
    "slideshow": {
     "slide_type": "fragment"
    }
   },
   "source": [
    "Come fare a ordinare per anni?"
   ]
  },
  {
   "cell_type": "code",
   "execution_count": 66,
   "id": "e31aaee1",
   "metadata": {
    "slideshow": {
     "slide_type": "-"
    }
   },
   "outputs": [
    {
     "data": {
      "text/plain": [
       "[('acquila', 25),\n",
       " ('cane', 12),\n",
       " ('gatto', 14),\n",
       " ('pellicano', 30),\n",
       " ('scoiattolo', 6)]"
      ]
     },
     "execution_count": 66,
     "metadata": {},
     "output_type": "execute_result"
    }
   ],
   "source": [
    "sorted(animali)   # SBAGLIATO"
   ]
  },
  {
   "cell_type": "markdown",
   "id": "9bc5a5d9",
   "metadata": {
    "slideshow": {
     "slide_type": "fragment"
    }
   },
   "source": [
    "Così è alfabetico..."
   ]
  },
  {
   "cell_type": "markdown",
   "id": "fa37af3e",
   "metadata": {
    "slideshow": {
     "slide_type": "subslide"
    }
   },
   "source": [
    "### Esempio: sorted `key`\n",
    "\n",
    "Possiamo passare al parametro `key` una funzione che:\n",
    "\n",
    "* dato un elemento della lista...\n",
    "* ...produce un numero per ordinare\n",
    "\n",
    "Scriviamo una `lambda` per estrarre aspettativa di vita:"
   ]
  },
  {
   "cell_type": "code",
   "execution_count": 67,
   "id": "bdbfcde0",
   "metadata": {
    "slideshow": {
     "slide_type": "-"
    }
   },
   "outputs": [
    {
     "data": {
      "text/plain": [
       "[('scoiattolo', 6),\n",
       " ('cane', 12),\n",
       " ('gatto', 14),\n",
       " ('acquila', 25),\n",
       " ('pellicano', 30)]"
      ]
     },
     "execution_count": 67,
     "metadata": {},
     "output_type": "execute_result"
    }
   ],
   "source": [
    "sorted( animali, key=lambda tup: tup[1]  )"
   ]
  },
  {
   "cell_type": "markdown",
   "id": "585abf2e",
   "metadata": {
    "slideshow": {
     "slide_type": "subslide"
    }
   },
   "source": [
    "## Menzioni\n",
    "\n",
    "- Gestione errori e testing - [tutorial SoftPython](https://it.softpython.org/functions/fun2-errors-and-testing-sol.html)\n",
    "- Namespace and Scope\n",
    "- Positional-Only and Keyword-Only Parameters\n",
    "- Variable Number of Arguments\n",
    "- Decorator\n",
    "- Yield Statement and Asynchronous Functions\n"
   ]
  },
  {
   "cell_type": "markdown",
   "id": "3f6567e3",
   "metadata": {
    "slideshow": {
     "slide_type": "slide"
    }
   },
   "source": [
    "## Funzioni - sfide\n",
    "\n",
    "- Pacman e i bulli\n",
    "- I biscotti danesi"
   ]
  },
  {
   "cell_type": "markdown",
   "id": "fde2fd24",
   "metadata": {
    "slideshow": {
     "slide_type": "subslide"
    }
   },
   "source": [
    "### Sfida - Pacman e i bulli\n",
    "\n",
    "✪✪ Requisiti: funzioni, stringhe, for, if\n",
    "\n",
    "Il nostro eroe dei labirinti incontra un gruppo di bulli che per prenderlo in giro iniziano a cantilenargli il suo iconico verso, storpiandolo: INVECE di `\"waka waka waka waka waka\"` gli cantano `\"waekai waekai waekai waekai\"`\n",
    "ed altre storpiature simili ottenute AGGIUNGENDO lettere al verso normale.\n",
    "\n",
    "- I bulli non aggiungono mai lettere corrette. \n",
    "- Aiuta PacMan scrivendo una funzione `nobulli` che pulisca dalle storpiature.\n",
    "- **NON** scrivere `print` nella funzione!\n",
    "\n",
    "Esempio:\n",
    "\n",
    "```python\n",
    ">>> bullo1 = \"waekai waekai waekai waekai\"\n",
    ">>> res1 = nobulli(bullo1) \n",
    ">>> print(res1)\n",
    "waka waka waka waka\n",
    "```\n",
    "\n",
    "1. scrivi una prima versione `nobulli(stringa)` che assume che i caratteri desiderati da mantenere siano sempre 'w','a','k','a'\n",
    "2. scrivi una seconda versione `nobulli2(stringa, mantieni)` che prende anche in ingresso una stringa coi caratteri da mantenere\n",
    "\n",
    "**(vedi slide successiva)**"
   ]
  },
  {
   "cell_type": "code",
   "execution_count": null,
   "id": "1b927709",
   "metadata": {
    "slideshow": {
     "slide_type": "subslide"
    }
   },
   "outputs": [],
   "source": [
    "# scrivi la funzione\n",
    "\n",
    "# NON TOCCARE, queste linee devono funzionare\n",
    "bullo1 = \"waekai waekai waekai waekai\"\n",
    "bullo2 = \"bwaka rwaka swaka twaka zwaka mmmwatka\"\n",
    "bullo3 = \"eweaekea zwxarkma qwoagkpa\"\n",
    "res1 = nobulli(bullo1)   # Deve RITORNARE il verso pulito \"waka waka waka waka\"\n",
    "print(res1)\n",
    "res2 = nobulli(bullo2)   # Deve RITORNARE il verso pulito \"waka waka waka waka waka waka\"\n",
    "print(res2)\n",
    "res3 = nobulli(bullo3)   # Deve RITORNARE il verso pulito \"waka waka waka\"\n",
    "print(res3)"
   ]
  },
  {
   "cell_type": "markdown",
   "id": "c66ae199",
   "metadata": {
    "slideshow": {
     "slide_type": "subslide"
    }
   },
   "source": [
    "### Sfida - I biscotti danesi  \n",
    "\n",
    "✪✪ Tornato a casa, per consolarsi dalle offese, PacMan si butta su una scatola \n",
    "di biscotti (di quelle con la confezione di latta rotonda).\n",
    "\n",
    "Nella scatola ci sono 8 diversi tipi di biscotti e dopo averne mangiati un po'\n",
    "si accorge con orrore che ha lasciato che rimanesse un numero dispari di biscotti\n",
    "per alcune tipologie.\n",
    "\n",
    "Ovviamente l'offesa va sanata:  scrivi una funzione `mangia` che data una lista la **MODIFICA** per  mangiare (e quindi togliere) un biscotto di tutti i tipi rimasti dispari.\n",
    "\n",
    "* **NON** scrivere `return` nè `print` nella funzione!\n",
    "\n",
    "Esempio:"
   ]
  },
  {
   "cell_type": "markdown",
   "id": "cfd57349",
   "metadata": {
    "slideshow": {
     "slide_type": "-"
    }
   },
   "source": [
    "\n",
    "```python\n",
    ">>> scatola = [2, 5, 3, 8, 6, 24, 5, 3, 9] \n",
    ">>> mangia(scatola)\n",
    ">>> print(scatola)\n",
    "[2, 4, 2, 8, 6, 24, 4, 2, 8] \n",
    "```"
   ]
  },
  {
   "cell_type": "markdown",
   "id": "f398d258",
   "metadata": {},
   "source": [
    "**(vedi slide successiva..)**"
   ]
  },
  {
   "cell_type": "code",
   "execution_count": null,
   "id": "851b2980",
   "metadata": {},
   "outputs": [],
   "source": [
    "# scrivi la funzione\n",
    "\n",
    "\n",
    "\n",
    "# NON TOCCARE, queste linee devono funzionare\n",
    "scatola1 = [3, 3, 3, 3, 3]\n",
    "scatola2 = [1, 3, 5, 7, 9]\n",
    "scatola3 = [19, 3, 14, 1, 10, 9, 2, 16, 8, 7, 13, 11, 18, 17, 6, 5, 4, 12, 20, 15]\n",
    "\n",
    "mangia(scatola1)  # deve MODIFICARE scatola1\n",
    "mangia(scatola2)\n",
    "mangia(scatola3)\n",
    "\n",
    "print(scatola1) # Deve stampare [2, 2, 2, 2, 2]\n",
    "print(scatola2) # Deve stampare [0, 2, 4, 6, 8]\n",
    "print(scatola3) # Deve stampare [18, 2, 14, 0, 10, 8, 2, 16, 8, 6, 12, 10, 18, 16, 6, 4, 4, 12, 20, 14]\n",
    "\n",
    "\n",
    "print(mangia([2,4,5,7])) # DEVE stampare None. Perchè ?"
   ]
  }
 ],
 "metadata": {
  "kernelspec": {
   "display_name": "Python 3 (ipykernel)",
   "language": "python",
   "name": "python3"
  },
  "language_info": {
   "codemirror_mode": {
    "name": "ipython",
    "version": 3
   },
   "file_extension": ".py",
   "mimetype": "text/x-python",
   "name": "python",
   "nbconvert_exporter": "python",
   "pygments_lexer": "ipython3",
   "version": "3.7.14"
  },
  "toc": {
   "base_numbering": 1,
   "nav_menu": {},
   "number_sections": false,
   "sideBar": true,
   "skip_h1_title": false,
   "title_cell": "Table of Contents",
   "title_sidebar": "Contents",
   "toc_cell": false,
   "toc_position": {
    "height": "calc(100% - 180px)",
    "left": "10px",
    "top": "150px",
    "width": "373.2px"
   },
   "toc_section_display": true,
   "toc_window_display": true
  }
 },
 "nbformat": 4,
 "nbformat_minor": 5
}
