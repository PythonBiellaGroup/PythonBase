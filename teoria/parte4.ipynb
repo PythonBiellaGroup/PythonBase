{
 "cells": [
  {
   "cell_type": "markdown",
   "id": "5dc358d7",
   "metadata": {
    "slideshow": {
     "slide_type": "slide"
    }
   },
   "source": [
    "# Python Base\n",
    "\n",
    "## Python Biella Group\n",
    "\n",
    "<br/>\n",
    "\n",
    "### Quarta serata, 24/10/2022\n",
    "\n",
    "Speaker: \n",
    "\n",
    "- James Luca Bosotti (Assistente e Studente @ Università di Trento)\n",
    "- bosottiluca@gmail.com\n",
    "\n",
    "Repository github per questi tutorial:\n",
    "- https://github.com/PythonBiellaGroup/PythonBase/tree/main/teoria \n",
    "\n",
    "(Per ripassare link al libro [SoftPython](https://it.softpython.org) )\n",
    "\n",
    "* (Per anteprima slide premi `Esc`)"
   ]
  },
  {
   "cell_type": "markdown",
   "id": "924d0773",
   "metadata": {
    "slideshow": {
     "slide_type": "slide"
    }
   },
   "source": [
    "## Soluzione esercizi terza serata"
   ]
  },
  {
   "cell_type": "markdown",
   "id": "57096283",
   "metadata": {
    "slideshow": {
     "slide_type": "subslide"
    }
   },
   "source": [
    "### Nuka Cola"
   ]
  },
  {
   "cell_type": "code",
   "execution_count": 28,
   "id": "bafb7470",
   "metadata": {
    "slideshow": {
     "slide_type": "fragment"
    }
   },
   "outputs": [
    {
     "name": "stdout",
     "output_type": "stream",
     "text": [
      "327.5559054766441\n"
     ]
    }
   ],
   "source": [
    "import math\n",
    "\n",
    "class BasicCola:\n",
    "    def __init__(self, sugar, caffeine, water=300):\n",
    "        self.water = water\n",
    "        self.sugar = sugar\n",
    "        self.caffeine = caffeine\n",
    "    \n",
    "    def weight(self, years=-1):\n",
    "        return self.water + self.sugar + self.caffeine\n",
    "    \n",
    "class NukaCola(BasicCola):\n",
    "    def __init__(self, cesium):\n",
    "        super().__init__(10, 12)\n",
    "        self.cesium = cesium\n",
    "        \n",
    "    def weight(self, years):\n",
    "        return super().weight() + self.cesium_left(years)\n",
    "    \n",
    "    def cesium_left(self, years):\n",
    "        return self.cesium * math.pow(0.97716, years)\n",
    "    \n",
    "nuka = NukaCola(7)\n",
    "\n",
    "print(nuka.weight(10))"
   ]
  },
  {
   "cell_type": "markdown",
   "id": "4c84418a",
   "metadata": {
    "slideshow": {
     "slide_type": "subslide"
    }
   },
   "source": [
    "### Caffetteria"
   ]
  },
  {
   "cell_type": "code",
   "execution_count": 29,
   "id": "edad5ec3",
   "metadata": {
    "slideshow": {
     "slide_type": "fragment"
    }
   },
   "outputs": [],
   "source": [
    "# To Check, potrebbe essere leggermente diversa\n",
    "\n",
    "class CoffeeShop:\n",
    "    def __init__(self, name,    menu, orders):\n",
    "        self._name = name\n",
    "        self._menu = menu\n",
    "        self._orders = orders\n",
    "\n",
    "    def shop_name(self):\n",
    "        return self._name\n",
    "\n",
    "    def add_order(self, item):\n",
    "        if any(m['item'] == item for m in self._menu):\n",
    "            self._orders += [item]\n",
    "            return 'Order added!'\n",
    "        return 'This item is currently unavailable!'\n",
    "\n",
    "    def fulfill_order(self):\n",
    "        return \"The {0} is ready!\".format(self._orders.pop(0)) \\\n",
    "            if len(self._orders) else 'All orders have been fulfilled!'\n",
    "\n",
    "    def list_orders(self):\n",
    "        return self._orders\n",
    "\n",
    "    def due_amount(self):\n",
    "        items = filter(lambda x: x['item'] in self._orders, self._menu)\n",
    "        return round(sum(item['price'] for item in items)*100)/100\n",
    "\n",
    "    def cheapest_item(self):\n",
    "        return [x['item'] for x in self._menu\n",
    "            if x['price'] == min(*[x['price'] for x in self._menu])].pop()\n",
    "\n",
    "    def drinks_only(self):\n",
    "        return [x['item'] for x in self._menu if x['type'] == 'drink']\n",
    "\n",
    "    def food_only(self):\n",
    "        return [x['item'] for x in self._menu if x['type'] == 'food']"
   ]
  },
  {
   "cell_type": "markdown",
   "id": "d0d9511f",
   "metadata": {
    "slideshow": {
     "slide_type": "slide"
    }
   },
   "source": [
    "## Class composition\n",
    "\n",
    "Per prima cosa, recuperiamo l'esempio della serata precedente ma aggiungiamoci alcuni valori"
   ]
  },
  {
   "cell_type": "code",
   "execution_count": 16,
   "id": "3c92416f",
   "metadata": {
    "slideshow": {
     "slide_type": "fragment"
    }
   },
   "outputs": [],
   "source": [
    "class Animale:\n",
    "    \n",
    "    regno_della_vita = \"ANIMALE\"                         \n",
    "    \n",
    "    def __init__(self, specie, verso):\n",
    "        self.specie = specie\n",
    "        self.verso = verso\n",
    "    \n",
    "    def __str__(self):                                         \n",
    "        return f\"{self.regno_della_vita}: {self.specie}\"       \n",
    "        \n",
    "    def parla(self):\n",
    "        print(f\"Il verso di {self.specie} è: {self.verso}\")           "
   ]
  },
  {
   "cell_type": "code",
   "execution_count": 17,
   "id": "12bede5d",
   "metadata": {
    "slideshow": {
     "slide_type": "subslide"
    }
   },
   "outputs": [],
   "source": [
    "class Animale:\n",
    "    \n",
    "    regno_della_vita = \"ANIMALE\"                         \n",
    "    \n",
    "    def __init__(self, specie, verso):\n",
    "        self.specie = specie\n",
    "        self.verso = verso\n",
    "    \n",
    "    def __str__(self):                                         \n",
    "        return f\"{self.regno_della_vita}: {self.specie}\"       \n",
    "        \n",
    "    def parla(self):\n",
    "        print(f\"Il verso di {self.specie} è: {self.verso}\")\n",
    "    \n",
    "    def muovi(self, ambiente): \n",
    "        if ambiente == \"terra\":\n",
    "            return 10\n",
    "        elif ambiente == \"acqua\":\n",
    "            print(\"Non so nuotare\")\n",
    "            return 0\n",
    "        else: \n",
    "            print(\"Non conosco questo ambiente!\")\n",
    "            return 0    # Caso limite se ci viene dato un ambiente non corretto"
   ]
  },
  {
   "cell_type": "markdown",
   "id": "7fd4235f",
   "metadata": {
    "slideshow": {
     "slide_type": "subslide"
    }
   },
   "source": [
    "Abbiamo aggiunto una nuova versione, più raffinata del metodo ```muovi()```. \n",
    "\n",
    "Questo prende un parametro e in base a quello ci calcola quanto l'animale si può muovere.\n",
    "\n",
    "Nel caso non sia capace di muoversi in quel determinato ambiente ci viene comunicato. "
   ]
  },
  {
   "cell_type": "markdown",
   "id": "5986b030",
   "metadata": {
    "slideshow": {
     "slide_type": "fragment"
    }
   },
   "source": [
    "Quindi di nuovo potremo creare un AnimaleAcquatico che nuota ma non cammina, un AnimaleVolante che vola ma non nuota etc...\n",
    "\n",
    "Comodo!\n",
    "\n",
    "... O forse no? "
   ]
  },
  {
   "cell_type": "markdown",
   "id": "56dc21c6",
   "metadata": {
    "slideshow": {
     "slide_type": "subslide"
    }
   },
   "source": [
    "Abbiamo un modo più ordinato per programmare questa funzionalità:"
   ]
  },
  {
   "cell_type": "code",
   "execution_count": 18,
   "id": "d941b9db",
   "metadata": {
    "slideshow": {
     "slide_type": "fragment"
    }
   },
   "outputs": [],
   "source": [
    "class MezzoTrasporto:\n",
    "    def __init__(self, nome, terra=0, acqua=0, aria=0):\n",
    "        self.nome = nome\n",
    "        self.terra = terra\n",
    "        self.acqua = acqua\n",
    "        self.aria = aria\n",
    "    \n",
    "    def muovi(self, ambiente):\n",
    "        if ambiente == \"terra\":\n",
    "            return self.__cammina()\n",
    "        elif ambiente == \"acqua\":\n",
    "            return self.__nuota()\n",
    "        elif ambiente == \"aria\":\n",
    "            return self.__vola()\n",
    "        else:\n",
    "            print(\"Non conosco questo ambiente!\")\n",
    "            return 0\n",
    "    \n",
    "    def __cammina(self):\n",
    "        return self.terra\n",
    "    def __nuota(self):\n",
    "        return self.acqua\n",
    "    def __vola(self):\n",
    "        return self.aria\n",
    "    \n",
    "    def __str__(self):\n",
    "        return f\"{self.nome}: terra {self.terra}, acqua {self.acqua}, aria {self.aria}\""
   ]
  },
  {
   "cell_type": "code",
   "execution_count": 19,
   "id": "5a5c717b",
   "metadata": {
    "slideshow": {
     "slide_type": "subslide"
    }
   },
   "outputs": [],
   "source": [
    "class Animale:\n",
    "    \n",
    "    regno_della_vita = \"ANIMALE\"                         \n",
    "    \n",
    "    def __init__(self, specie, verso, mezzo_trasporto):\n",
    "        self.specie = specie\n",
    "        self.verso = verso\n",
    "        self.mezzo_trasporto = mezzo_trasporto\n",
    "    \n",
    "    def __str__(self):                                         \n",
    "        return f\"{self.regno_della_vita}: {self.specie} \\n\\t mezzo di trasporto({self.mezzo_trasporto})\"       \n",
    "        \n",
    "    def parla(self):\n",
    "        print(f\"Il verso di {self.specie} è: {self.verso}\")\n",
    "    \n",
    "    def muovi(self, ambiente): \n",
    "        print(self.mezzo_trasporto.muovi(ambiente))"
   ]
  },
  {
   "cell_type": "code",
   "execution_count": 20,
   "id": "b1d7c305",
   "metadata": {
    "slideshow": {
     "slide_type": "subslide"
    }
   },
   "outputs": [
    {
     "name": "stdout",
     "output_type": "stream",
     "text": [
      "Pinne: terra 0, acqua 10, aria 0\n",
      "0\n",
      "10\n",
      "Non conosco questo ambiente!\n",
      "0\n"
     ]
    }
   ],
   "source": [
    "pinne = MezzoTrasporto(\"Pinne\", acqua=10)\n",
    "print(pinne)\n",
    "\n",
    "print(pinne.muovi(\"terra\"))\n",
    "print(pinne.muovi(\"acqua\"))\n",
    "print(pinne.muovi(\"spazio siderale\"))"
   ]
  },
  {
   "cell_type": "code",
   "execution_count": 21,
   "id": "c717fb6e",
   "metadata": {
    "slideshow": {
     "slide_type": "subslide"
    }
   },
   "outputs": [
    {
     "name": "stdout",
     "output_type": "stream",
     "text": [
      "ANIMALE: Pescecane \n",
      "\t mezzo di trasporto(Pinne: terra 0, acqua 10, aria 0)\n",
      "10\n",
      "0\n",
      "ANIMALE: Pescevolante \n",
      "\t mezzo di trasporto(Pinne alari: terra 0, acqua 12, aria 8)\n",
      "12\n",
      "8\n"
     ]
    }
   ],
   "source": [
    "pescecane = Animale(\"Pescecane\", \"blubvvrr\", pinne)\n",
    "print(pescecane)\n",
    "pescecane.muovi(\"acqua\")\n",
    "pescecane.muovi(\"terra\")\n",
    "\n",
    "pescevolante = Animale(\"Pescevolante\", \"blubzooom\", MezzoTrasporto(\"Pinne alari\", acqua=12, aria=8))\n",
    "print(pescevolante)\n",
    "pescevolante.muovi(\"acqua\")\n",
    "pescevolante.muovi(\"aria\")"
   ]
  },
  {
   "cell_type": "markdown",
   "id": "5272d1c6",
   "metadata": {
    "slideshow": {
     "slide_type": "slide"
    }
   },
   "source": [
    "## Classi interne\n",
    "\n",
    "Ma ha senso che i mezzi di trasporto siano pubblici e raggiungibili da chiunque?"
   ]
  },
  {
   "cell_type": "code",
   "execution_count": 22,
   "id": "50952cb9",
   "metadata": {
    "slideshow": {
     "slide_type": "fragment"
    }
   },
   "outputs": [
    {
     "name": "stdout",
     "output_type": "stream",
     "text": [
      "Il mio sgabello di legno di faggio si muove tramite Quattro gambe: terra 10, acqua 0, aria 0\n"
     ]
    }
   ],
   "source": [
    "class Mobile:\n",
    "    def __init__(self, nome, materiale):\n",
    "        self.nome = nome\n",
    "        self.materiale = materiale\n",
    "    \n",
    "    def __str__(self):\n",
    "        return f\"Ciao sono uno {self.nome} fatto di {self.materiale}\"\n",
    "\n",
    "# ---------------------------------------------------\n",
    "    \n",
    "sgabello = Mobile(\"sgabello\", \"legno di faggio\")\n",
    "sgabello.zampe = MezzoTrasporto(\"Quattro gambe\", terra=10)\n",
    "\n",
    "print(f\"Il mio {sgabello.nome} di {sgabello.materiale} si muove tramite {sgabello.zampe}\")"
   ]
  },
  {
   "cell_type": "markdown",
   "id": "7c3c3cff",
   "metadata": {
    "slideshow": {
     "slide_type": "subslide"
    }
   },
   "source": [
    "No, non ha molto senso.\n",
    "\n",
    "Per questo sarebbe bello poter \"nascondere\" la classe MezzoTrasporto in modo che solamente gli animali possano usarla. \n",
    "\n",
    "Non vuole dire essere cattivi ma semplicemente cercare di tenere il codice ordinato e separare le responsabilità\n",
    "\n",
    "--> modularizzazione!"
   ]
  },
  {
   "cell_type": "code",
   "execution_count": 23,
   "id": "79559f69",
   "metadata": {
    "slideshow": {
     "slide_type": "subslide"
    }
   },
   "outputs": [],
   "source": [
    "del MezzoTrasporto # <--- Cancello la vecchia classe. \n",
    "# Mi serve per far funzionare gli esempi successivi\n",
    "\n",
    "class Animale:\n",
    "    \n",
    "    regno_della_vita = \"ANIMALE\"                         \n",
    "    \n",
    "    def __init__(self, specie, verso, tipo_trasporto, terra=0, acqua=0, aria=0):\n",
    "        self.specie = specie\n",
    "        self.verso = verso\n",
    "        self.mezzo_trasporto = self.MezzoTrasporto(tipo_trasporto, terra, acqua, aria)\n",
    "    \n",
    "    def __str__(self):                                         \n",
    "        return f\"{self.regno_della_vita}: {self.specie} \\n\\t mezzo di trasporto({self.mezzo_trasporto})\"       \n",
    "        \n",
    "    def parla(self):\n",
    "        print(f\"Il verso di {self.specie} è: {self.verso}\")\n",
    "    \n",
    "    def muovi(self, ambiente): \n",
    "        print(self.mezzo_trasporto.muovi(ambiente))\n",
    "        \n",
    "    # ----- Classe interna!\n",
    "    class MezzoTrasporto:\n",
    "        def __init__(self, nome, terra=0, acqua=0, aria=0):\n",
    "            self.nome = nome\n",
    "            self.terra = terra\n",
    "            self.acqua = acqua\n",
    "            self.aria = aria\n",
    "\n",
    "        def muovi(self, ambiente):\n",
    "            if ambiente == \"terra\":\n",
    "                return self.__cammina()\n",
    "            elif ambiente == \"acqua\":\n",
    "                return self.__nuota()\n",
    "            elif ambiente == \"aria\":\n",
    "                return self.__vola()\n",
    "            else:\n",
    "                print(\"Non conosco questo ambiente!\")\n",
    "                return 0\n",
    "\n",
    "        def __cammina(self):\n",
    "            return self.terra\n",
    "        def __nuota(self):\n",
    "            return self.acqua\n",
    "        def __vola(self):\n",
    "            return self.aria\n",
    "\n",
    "        def __str__(self):\n",
    "            return f\"{self.nome}: terra {self.terra}, acqua {self.acqua}, aria {self.aria}\""
   ]
  },
  {
   "cell_type": "code",
   "execution_count": 24,
   "id": "959c7f21",
   "metadata": {
    "slideshow": {
     "slide_type": "subslide"
    }
   },
   "outputs": [
    {
     "name": "stdout",
     "output_type": "stream",
     "text": [
      "ANIMALE: Dinosauro diplodoco \n",
      "\t mezzo di trasporto(Quattro zampe enormi: terra 2, acqua 0, aria 0)\n",
      "2\n",
      "0\n",
      "ANIMALE: Dinosauro T-Rex \n",
      "\t mezzo di trasporto(Due zampe allenate: terra 15, acqua 2, aria 0)\n",
      "15\n",
      "0\n"
     ]
    }
   ],
   "source": [
    "brontosauro = Animale(\"Dinosauro diplodoco\", \"moooo\", \"Quattro zampe enormi\", terra=2)\n",
    "t_rex = Animale(\"Dinosauro T-Rex\", \"RAAAAWR!\", \"Due zampe allenate\", terra=15, acqua=2)\n",
    "\n",
    "print(brontosauro)\n",
    "brontosauro.muovi(\"terra\")\n",
    "brontosauro.muovi(\"aria\")\n",
    "\n",
    "print(t_rex)\n",
    "t_rex.muovi(\"terra\")\n",
    "t_rex.muovi(\"aria\")\n"
   ]
  },
  {
   "cell_type": "code",
   "execution_count": 25,
   "id": "a5b094cd",
   "metadata": {
    "slideshow": {
     "slide_type": "subslide"
    }
   },
   "outputs": [
    {
     "name": "stdout",
     "output_type": "stream",
     "text": [
      "La mia Marionetta di legno d'abete\n"
     ]
    }
   ],
   "source": [
    "\n",
    "marionetta = Mobile(\"Marionetta\", \"legno d'abete\")\n",
    "print(f\"La mia {marionetta.nome} di {marionetta.materiale}\")\n"
   ]
  },
  {
   "cell_type": "code",
   "execution_count": 26,
   "id": "02bd6a7c",
   "metadata": {
    "scrolled": true,
    "slideshow": {
     "slide_type": "fragment"
    }
   },
   "outputs": [
    {
     "ename": "NameError",
     "evalue": "name 'MezzoTrasporto' is not defined",
     "output_type": "error",
     "traceback": [
      "\u001b[0;31m---------------------------------------------------------------------------\u001b[0m",
      "\u001b[0;31mNameError\u001b[0m                                 Traceback (most recent call last)",
      "\u001b[0;32m<ipython-input-26-7093e6482253>\u001b[0m in \u001b[0;36m<module>\u001b[0;34m\u001b[0m\n\u001b[0;32m----> 1\u001b[0;31m \u001b[0mmarionetta\u001b[0m\u001b[0;34m.\u001b[0m\u001b[0mzampe\u001b[0m \u001b[0;34m=\u001b[0m \u001b[0mMezzoTrasporto\u001b[0m\u001b[0;34m(\u001b[0m\u001b[0;34m\"Due gambette\"\u001b[0m\u001b[0;34m,\u001b[0m \u001b[0mterra\u001b[0m\u001b[0;34m=\u001b[0m\u001b[0;36m3\u001b[0m\u001b[0;34m)\u001b[0m\u001b[0;34m\u001b[0m\u001b[0;34m\u001b[0m\u001b[0m\n\u001b[0m",
      "\u001b[0;31mNameError\u001b[0m: name 'MezzoTrasporto' is not defined"
     ]
    }
   ],
   "source": [
    "marionetta.zampe = MezzoTrasporto(\"Due gambette\", terra=3)"
   ]
  },
  {
   "cell_type": "markdown",
   "id": "88822da0",
   "metadata": {
    "slideshow": {
     "slide_type": "fragment"
    }
   },
   "source": [
    "Adesso non è più possibile realizzare chimere animal-mobile.\n",
    "\n",
    "Con buonapace di Geppetto\n",
    "\n",
    "<img src=\"img/geppetto.jpg\" width=\"240\" height=\"240\" align=\"right\"/>\n"
   ]
  },
  {
   "cell_type": "markdown",
   "id": "04ce1e0d",
   "metadata": {
    "slideshow": {
     "slide_type": "slide"
    }
   },
   "source": [
    "## Classi Astratte\n",
    "\n",
    "Un nuovo attrezzo con cui giocare"
   ]
  },
  {
   "cell_type": "markdown",
   "id": "3c316a60",
   "metadata": {
    "slideshow": {
     "slide_type": "fragment"
    }
   },
   "source": [
    "Come abbiamo visto la volta scorsa, possiamo usare l'ereditarietà per rappresentare la parentela tra specie animali e **soprattutto** risparmiare codice nella loro implementazione."
   ]
  },
  {
   "cell_type": "markdown",
   "id": "ef8d455e",
   "metadata": {
    "slideshow": {
     "slide_type": "fragment"
    }
   },
   "source": [
    "Però la volta scorsa siamo partiti dagli animali di terra e abbiamo ereditato al \"contrario\" rispetto all'evoluzione biologica. Perchè concettualmente a livello informatico vanno bene entrambi i versi.\n",
    "\n",
    "Tuttavia non è una soluzione pratica."
   ]
  },
  {
   "cell_type": "code",
   "execution_count": 30,
   "id": "4c11baf6",
   "metadata": {
    "slideshow": {
     "slide_type": "subslide"
    }
   },
   "outputs": [],
   "source": [
    "import abc\n",
    "from abc import ABC, abstractmethod\n",
    "\n",
    "class Animale(ABC):\n",
    "    \n",
    "    regno_della_vita = \"ANIMALE\"                         \n",
    "    \n",
    "    def __init__(self, specie, verso):\n",
    "        self.specie = specie\n",
    "        self.verso = verso\n",
    "    \n",
    "    def __str__(self):                                         \n",
    "        return f\"{self.regno_della_vita}: {self.specie}\"       \n",
    "        \n",
    "    def parla(self):\n",
    "        print(f\"Il verso di {self.specie} è: {self.verso}\")\n",
    "    \n",
    "    @abstractmethod\n",
    "    def muovi(self):\n",
    "        pass\n"
   ]
  },
  {
   "cell_type": "code",
   "execution_count": 31,
   "id": "b13c3c5d",
   "metadata": {
    "slideshow": {
     "slide_type": "subslide"
    }
   },
   "outputs": [
    {
     "ename": "TypeError",
     "evalue": "Can't instantiate abstract class Animale with abstract methods muovi",
     "output_type": "error",
     "traceback": [
      "\u001b[0;31m---------------------------------------------------------------------------\u001b[0m",
      "\u001b[0;31mTypeError\u001b[0m                                 Traceback (most recent call last)",
      "\u001b[0;32m<ipython-input-31-f024e2e82f73>\u001b[0m in \u001b[0;36m<module>\u001b[0;34m\u001b[0m\n\u001b[0;32m----> 1\u001b[0;31m \u001b[0mporygon\u001b[0m \u001b[0;34m=\u001b[0m \u001b[0mAnimale\u001b[0m\u001b[0;34m(\u001b[0m\u001b[0;34m\"Pokemon Digitale\"\u001b[0m\u001b[0;34m,\u001b[0m \u001b[0;34m\"bzbzb!\"\u001b[0m\u001b[0;34m)\u001b[0m\u001b[0;34m\u001b[0m\u001b[0;34m\u001b[0m\u001b[0m\n\u001b[0m",
      "\u001b[0;31mTypeError\u001b[0m: Can't instantiate abstract class Animale with abstract methods muovi"
     ]
    }
   ],
   "source": [
    "porygon = Animale(\"Pokemon Digitale\", \"bzbzb!\")"
   ]
  },
  {
   "cell_type": "markdown",
   "id": "a3ce32d1",
   "metadata": {
    "slideshow": {
     "slide_type": "fragment"
    }
   },
   "source": [
    "Porygon è un pokemon digitale, di conseguenza non è una cretura \"vera\". \n",
    "\n",
    "Python non sa come istanziarlo!\n",
    "\n",
    "<img src=\"img/porygon.png\" width=\"240\" height=\"240\" align=\"right\"/>"
   ]
  },
  {
   "cell_type": "code",
   "execution_count": 32,
   "id": "02e7c9e1",
   "metadata": {
    "slideshow": {
     "slide_type": "subslide"
    }
   },
   "outputs": [
    {
     "name": "stdout",
     "output_type": "stream",
     "text": [
      "ANIMALE: Lombrico\n",
      "Cammino!\n"
     ]
    }
   ],
   "source": [
    "class AnimaleTerrestre(Animale):    \n",
    "    def muovi(self):\n",
    "        print(\"Cammino!\")\n",
    "        \n",
    "lombrico = AnimaleTerrestre(\"Lombrico\", \"cripcrip\")\n",
    "print(lombrico)\n",
    "lombrico.muovi()"
   ]
  },
  {
   "cell_type": "markdown",
   "id": "4bcd04cb",
   "metadata": {
    "slideshow": {
     "slide_type": "fragment"
    }
   },
   "source": [
    "Se invece ereditiamo la classe astratta, e reimplementiamo il metodo funziona tutto!"
   ]
  },
  {
   "cell_type": "markdown",
   "id": "42754ea2",
   "metadata": {
    "slideshow": {
     "slide_type": "fragment"
    }
   },
   "source": [
    "Le classi astratte sono utili per preparare dele funzionalità condivise **MA** che devono essere personalizzate poi in delle categorie specifiche.\n",
    "\n",
    "Permettono di creare una struttura ad albero semplice ed elegante\n",
    "\n",
    "Ma non abusatene, tante volte non ne vale la pena!"
   ]
  },
  {
   "cell_type": "markdown",
   "id": "1be6988e",
   "metadata": {
    "slideshow": {
     "slide_type": "subslide"
    }
   },
   "source": [
    "## Classi immutabili\n",
    "\n",
    "Adesso creiamo degli oggetti immutabili... ma perchè?"
   ]
  },
  {
   "cell_type": "markdown",
   "id": "23dd066c",
   "metadata": {
    "slideshow": {
     "slide_type": "fragment"
    }
   },
   "source": [
    "<img src=\"img/mammoot.jpg\" width=\"240\" height=\"240\" align=\"right\"/>\n",
    "<img src=\"img/dinosaur.webp\" width=\"240\" height=\"240\" align=\"right\"/>"
   ]
  },
  {
   "cell_type": "markdown",
   "id": "c352216a",
   "metadata": {
    "slideshow": {
     "slide_type": "fragment"
    }
   },
   "source": [
    "Oggetti immutabili non possono essere modificati, non essendo modificati saremo sempre sicuri del loro contenuto. \n",
    "\n",
    "Per esempio in caso di oggetti condivisi, non avere modifiche permette di avere più entità che leggono lo stesso oggetto senza rischi di desincronizzazione."
   ]
  },
  {
   "cell_type": "markdown",
   "id": "03ef7df0",
   "metadata": {
    "slideshow": {
     "slide_type": "fragment"
    }
   },
   "source": [
    "Pensate a tre cuochi che eseguono una ricetta scritta sullo stesso foglietto. Tecnicamente i tre piatti saranno identici. \n",
    "\n",
    "Se invece ogni cuoco è libero di cambiare la ricetta i tre risultati finali possono diventare imprevedebili, a seconda del momento in cui ciascun cuoco ha letto ogni parte della ricetta."
   ]
  },
  {
   "cell_type": "code",
   "execution_count": 33,
   "id": "0a4ab7ca",
   "metadata": {
    "slideshow": {
     "slide_type": "subslide"
    }
   },
   "outputs": [
    {
     "name": "stdout",
     "output_type": "stream",
     "text": [
      "ANIMALE: Lombrico\n",
      "Lombrico\n",
      "cripcrip\n"
     ]
    }
   ],
   "source": [
    "class Fossile:\n",
    "    def __init__(self, animale):\n",
    "        self.__animale = animale\n",
    "    \n",
    "    def __str__(self):\n",
    "        return str(self.__animale)\n",
    "    \n",
    "    def get_specie(self):\n",
    "        return self.__animale.specie\n",
    "    \n",
    "    def get_verso(self):\n",
    "        return self.__animale.verso\n",
    "    \n",
    "lombrico_fossile = Fossile(lombrico)\n",
    "print( lombrico_fossile )\n",
    "print( lombrico_fossile.get_specie() )\n",
    "print( lombrico_fossile.get_verso() )"
   ]
  },
  {
   "cell_type": "markdown",
   "id": "f96f1776",
   "metadata": {
    "slideshow": {
     "slide_type": "slide"
    }
   },
   "source": [
    "## Classi con metodi statici\n",
    "\n",
    "Cosa vuol dire?"
   ]
  },
  {
   "cell_type": "markdown",
   "id": "e6c14970",
   "metadata": {
    "slideshow": {
     "slide_type": "fragment"
    }
   },
   "source": [
    "Statico significa che non serve per forza avere un'istanza di oggetto per funzionare."
   ]
  },
  {
   "cell_type": "code",
   "execution_count": 10,
   "id": "24a383c0",
   "metadata": {
    "slideshow": {
     "slide_type": "subslide"
    }
   },
   "outputs": [],
   "source": [
    "import abc\n",
    "from abc import ABC, abstractmethod\n",
    "from random import choice\n",
    "\n",
    "class Animale(ABC):\n",
    "    \n",
    "    regno_della_vita = \"ANIMALE\"     \n",
    "    \n",
    "    def due_animali_fanno_un(animale1, animale2):\n",
    "        possibilita = [\"banco\", \"gregge\", \"stormo\", \"coppia\", \"alveare\"]\n",
    "        print(f\"{choice(possibilita)}: {animale1.specie}, {animale2.specie}\")\n",
    "\n",
    "    def __init__(self, specie, verso):\n",
    "        self.specie = specie\n",
    "        self.verso = verso\n",
    "    \n",
    "    def __str__(self):                                         \n",
    "        return f\"{self.regno_della_vita}: {self.specie}\"       \n",
    "        \n",
    "    def parla(self):\n",
    "        print(f\"Il verso di {self.specie} è: {self.verso}\")\n",
    "    \n",
    "    @abstractmethod\n",
    "    def muovi(self):\n",
    "        pass\n",
    "    \n",
    "        \n",
    "# --------------------------\n",
    "\n",
    "class AnimaleTerrestre(Animale):    \n",
    "    def muovi(self):\n",
    "        print(\"Cammino!\")"
   ]
  },
  {
   "cell_type": "code",
   "execution_count": 11,
   "id": "73c69705",
   "metadata": {
    "slideshow": {
     "slide_type": "subslide"
    }
   },
   "outputs": [
    {
     "name": "stdout",
     "output_type": "stream",
     "text": [
      "stormo: Lucertola, Gallina\n"
     ]
    },
    {
     "ename": "TypeError",
     "evalue": "due_animali_fanno_un() takes 2 positional arguments but 3 were given",
     "output_type": "error",
     "traceback": [
      "\u001b[0;31m---------------------------------------------------------------------------\u001b[0m",
      "\u001b[0;31mTypeError\u001b[0m                                 Traceback (most recent call last)",
      "\u001b[0;32m<ipython-input-11-fb4d9e10b408>\u001b[0m in \u001b[0;36m<module>\u001b[0;34m\u001b[0m\n\u001b[1;32m      4\u001b[0m \u001b[0mAnimale\u001b[0m\u001b[0;34m.\u001b[0m\u001b[0mdue_animali_fanno_un\u001b[0m\u001b[0;34m(\u001b[0m\u001b[0mlucertola\u001b[0m\u001b[0;34m,\u001b[0m \u001b[0mgallina\u001b[0m\u001b[0;34m)\u001b[0m\u001b[0;34m\u001b[0m\u001b[0;34m\u001b[0m\u001b[0m\n\u001b[1;32m      5\u001b[0m \u001b[0;34m\u001b[0m\u001b[0m\n\u001b[0;32m----> 6\u001b[0;31m \u001b[0mlucertola\u001b[0m\u001b[0;34m.\u001b[0m\u001b[0mdue_animali_fanno_un\u001b[0m\u001b[0;34m(\u001b[0m\u001b[0mlucertola\u001b[0m\u001b[0;34m,\u001b[0m \u001b[0mgallina\u001b[0m\u001b[0;34m)\u001b[0m\u001b[0;34m\u001b[0m\u001b[0;34m\u001b[0m\u001b[0m\n\u001b[0m",
      "\u001b[0;31mTypeError\u001b[0m: due_animali_fanno_un() takes 2 positional arguments but 3 were given"
     ]
    }
   ],
   "source": [
    "lucertola = AnimaleTerrestre(\"Lucertola\", \"swick\")\n",
    "gallina = AnimaleTerrestre(\"Gallina\", \"cocodè\")\n",
    "\n",
    "Animale.due_animali_fanno_un(lucertola, gallina)\n",
    "\n",
    "lucertola.due_animali_fanno_un(lucertola, gallina)"
   ]
  },
  {
   "cell_type": "markdown",
   "id": "152105f6",
   "metadata": {
    "slideshow": {
     "slide_type": "fragment"
    }
   },
   "source": [
    "Qui come vedete dà errore perchè il metodo non è definito come statico. \n",
    "\n",
    "E quando si prova a fare la seconda chiamata i parametri non combaciano!\n",
    "\n",
    "Come si risolve?"
   ]
  },
  {
   "cell_type": "markdown",
   "id": "4037f19d",
   "metadata": {
    "slideshow": {
     "slide_type": "subslide"
    }
   },
   "source": [
    "Molto facilmente, in questo codice cambia solo **1** riga"
   ]
  },
  {
   "cell_type": "code",
   "execution_count": 12,
   "id": "84189869",
   "metadata": {
    "slideshow": {
     "slide_type": "fragment"
    }
   },
   "outputs": [],
   "source": [
    "import abc\n",
    "from abc import ABC, abstractmethod\n",
    "from random import choice\n",
    "\n",
    "class Animale(ABC):\n",
    "    \n",
    "    regno_della_vita = \"ANIMALE\"     \n",
    "    \n",
    "    @staticmethod   # <------- <------- <------- <------- <------- <------- <------- <------- <------- \n",
    "    def due_animali_fanno_un(animale1, animale2):\n",
    "        possibilita = [\"banco\", \"gregge\", \"stormo\", \"coppia\", \"alveare\"]\n",
    "        print(f\"{choice(possibilita)}: {animale1.specie}, {animale2.specie}\")\n",
    "\n",
    "    def __init__(self, specie, verso):\n",
    "        self.specie = specie\n",
    "        self.verso = verso\n",
    "    \n",
    "    def __str__(self):                                         \n",
    "        return f\"{self.regno_della_vita}: {self.specie}\"       \n",
    "        \n",
    "    def parla(self):\n",
    "        print(f\"Il verso di {self.specie} è: {self.verso}\")\n",
    "    \n",
    "    @abstractmethod\n",
    "    def muovi(self):\n",
    "        pass\n",
    "    \n",
    "        \n",
    "# --------------------------\n",
    "\n",
    "class AnimaleTerrestre(Animale):    \n",
    "    def muovi(self):\n",
    "        print(\"Cammino!\")"
   ]
  },
  {
   "cell_type": "code",
   "execution_count": 14,
   "id": "c206b1a8",
   "metadata": {
    "slideshow": {
     "slide_type": "subslide"
    }
   },
   "outputs": [
    {
     "name": "stdout",
     "output_type": "stream",
     "text": [
      "stormo: Leone, Elefante\n",
      "gregge: Leone, Elefante\n"
     ]
    }
   ],
   "source": [
    "leone = AnimaleTerrestre(\"Leone\", \"GROWL!\")\n",
    "elefante = AnimaleTerrestre(\"Elefante\", \"baaaaaa\")\n",
    "\n",
    "Animale.due_animali_fanno_un(leone, elefante)\n",
    "\n",
    "leone.due_animali_fanno_un(leone, elefante)"
   ]
  },
  {
   "cell_type": "markdown",
   "id": "af390f8f",
   "metadata": {
    "slideshow": {
     "slide_type": "slide"
    }
   },
   "source": [
    "## Data Classes\n",
    "\n",
    "Ovvero, come risparmiare ancora più codice e far fare a python il lavoro sporco\n",
    "\n",
    "Prima di procedere notiamo però una cosa: questo confronto è \"sbagliato\" perchè nessuno ha definito la funzione per calcolare l'eguaglianza"
   ]
  },
  {
   "cell_type": "code",
   "execution_count": 34,
   "id": "031f5474",
   "metadata": {
    "slideshow": {
     "slide_type": "fragment"
    }
   },
   "outputs": [
    {
     "name": "stdout",
     "output_type": "stream",
     "text": [
      "False\n"
     ]
    }
   ],
   "source": [
    "mucca = AnimaleTerrestre(\"Bovino\", \"Mooo!\")\n",
    "mucca_nera = AnimaleTerrestre(\"Bovino\", \"Mooo!\")\n",
    "\n",
    "print(mucca == mucca_nera)"
   ]
  },
  {
   "cell_type": "markdown",
   "id": "94a54ccb",
   "metadata": {
    "slideshow": {
     "slide_type": "subslide"
    }
   },
   "source": [
    "Proviamo ora a ricreare la stessa struttura degli animali usando la classe astratta **E** le data classes"
   ]
  },
  {
   "cell_type": "code",
   "execution_count": 16,
   "id": "34fa86d7",
   "metadata": {
    "slideshow": {
     "slide_type": "fragment"
    }
   },
   "outputs": [],
   "source": [
    "from dataclasses import dataclass\n",
    "import abc\n",
    "from abc import ABC, abstractmethod\n",
    "\n",
    "@dataclass\n",
    "class Animale(ABC):\n",
    "    \n",
    "    regno_della_vita = \"ANIMALE\"                         \n",
    "    \n",
    "    specie: str\n",
    "    verso: str\n",
    "        \n",
    "    def parla(self):\n",
    "        print(f\"Il verso di {self.specie} è: {self.verso}\")\n",
    "    \n",
    "    @abstractmethod\n",
    "    def muovi(self):\n",
    "        pass\n",
    "    \n",
    "# ------------------------\n",
    "\n",
    "class AnimaleTerrestre(Animale):    \n",
    "    def muovi(self):\n",
    "        print(\"Cammino!\")    "
   ]
  },
  {
   "cell_type": "code",
   "execution_count": 19,
   "id": "ca76a7c7",
   "metadata": {
    "slideshow": {
     "slide_type": "fragment"
    }
   },
   "outputs": [
    {
     "name": "stdout",
     "output_type": "stream",
     "text": [
      "AnimaleTerrestre(specie='Pappagallo', verso='Arr!')\n",
      "Il verso di Pappagallo è: Arr!\n",
      "Arr!\n",
      "E ora l'uguaglianza... True!\n"
     ]
    }
   ],
   "source": [
    "pappagallo = AnimaleTerrestre(\"Pappagallo\", \"Arr!\")\n",
    "pappagallo2 = AnimaleTerrestre(\"Pappagallo\", \"Arr!\")\n",
    "print(pappagallo)\n",
    "\n",
    "pappagallo.parla()\n",
    "print(pappagallo.verso)\n",
    "\n",
    "print(f\"E ora l'uguaglianza... {pappagallo == pappagallo2}!\")"
   ]
  },
  {
   "cell_type": "markdown",
   "id": "5fafca94",
   "metadata": {
    "slideshow": {
     "slide_type": "slide"
    }
   },
   "source": [
    "## Classi di errore\n",
    "\n",
    "A questo punto scopriamo una temibile verità"
   ]
  },
  {
   "cell_type": "code",
   "execution_count": 20,
   "id": "a118a9ac",
   "metadata": {
    "slideshow": {
     "slide_type": "fragment"
    }
   },
   "outputs": [
    {
     "ename": "ZeroDivisionError",
     "evalue": "division by zero",
     "output_type": "error",
     "traceback": [
      "\u001b[0;31m---------------------------------------------------------------------------\u001b[0m",
      "\u001b[0;31mZeroDivisionError\u001b[0m                         Traceback (most recent call last)",
      "\u001b[0;32m<ipython-input-20-eef80fd69bbf>\u001b[0m in \u001b[0;36m<module>\u001b[0;34m\u001b[0m\n\u001b[1;32m      2\u001b[0m \u001b[0mamici\u001b[0m \u001b[0;34m=\u001b[0m \u001b[0;36m0\u001b[0m\u001b[0;34m\u001b[0m\u001b[0;34m\u001b[0m\u001b[0m\n\u001b[1;32m      3\u001b[0m \u001b[0;34m\u001b[0m\u001b[0m\n\u001b[0;32m----> 4\u001b[0;31m \u001b[0mprint\u001b[0m\u001b[0;34m(\u001b[0m\u001b[0mfette_di_torta\u001b[0m \u001b[0;34m/\u001b[0m \u001b[0mamici\u001b[0m\u001b[0;34m)\u001b[0m\u001b[0;34m\u001b[0m\u001b[0;34m\u001b[0m\u001b[0m\n\u001b[0m",
      "\u001b[0;31mZeroDivisionError\u001b[0m: division by zero"
     ]
    }
   ],
   "source": [
    "fette_di_torta = 4\n",
    "amici = 0\n",
    "\n",
    "print(fette_di_torta / amici)"
   ]
  },
  {
   "cell_type": "markdown",
   "id": "c0d8d567",
   "metadata": {
    "slideshow": {
     "slide_type": "fragment"
    }
   },
   "source": [
    "Fino a che non troveremo degli amici avremo questo errore... \n",
    "\n",
    "ma già che ci siamo... che cos'è quell'errore?"
   ]
  },
  {
   "cell_type": "markdown",
   "id": "49d93e7f",
   "metadata": {
    "slideshow": {
     "slide_type": "subslide"
    }
   },
   "source": [
    "... Beh! Ma è una classe naturalmente!\n",
    "\n",
    "<img src=\"img/exception.jpg\" align=\"center\"/>\n"
   ]
  },
  {
   "cell_type": "markdown",
   "id": "f980b79a",
   "metadata": {
    "slideshow": {
     "slide_type": "subslide"
    }
   },
   "source": [
    "Quindi possiamo creare le nostre eccezioni!"
   ]
  },
  {
   "cell_type": "code",
   "execution_count": 32,
   "id": "4a3080e7",
   "metadata": {
    "slideshow": {
     "slide_type": "fragment"
    }
   },
   "outputs": [],
   "source": [
    "class AnimaleMitologicoException(Exception):\n",
    "    def __init__(self, specie):\n",
    "        super().__init__()\n",
    "        self.specie = specie\n",
    "    def __str__(self):\n",
    "        stringa = f\" Hai selezionato una specie mitologica. Non puoi creare questo animale! {self.specie}\"\n",
    "        return super().__str__() + stringa"
   ]
  },
  {
   "cell_type": "code",
   "execution_count": 33,
   "id": "93455920",
   "metadata": {},
   "outputs": [],
   "source": [
    "import abc\n",
    "from abc import ABC, abstractmethod\n",
    "from random import choice\n",
    "\n",
    "class Animale(ABC):\n",
    "    \n",
    "    regno_della_vita = \"ANIMALE\"     \n",
    "    __animali_mitologici = [\"Drago\", \"Chimera\", \"Basilisco\"]\n",
    "    \n",
    "    def __init__(self, specie, verso):\n",
    "        if specie not in self.__animali_mitologici:\n",
    "            self.specie = specie\n",
    "            self.verso = verso\n",
    "        else:\n",
    "            raise AnimaleMitologicoException(specie)\n",
    "            \n",
    "    def __str__(self):                                         \n",
    "        return f\"{self.regno_della_vita}: {self.specie}\"       \n",
    "        \n",
    "    def parla(self):\n",
    "        print(f\"Il verso di {self.specie} è: {self.verso}\")\n",
    "    \n",
    "    @abstractmethod\n",
    "    def muovi(self):\n",
    "        pass\n",
    "    \n",
    "        \n",
    "# --------------------------\n",
    "\n",
    "class AnimaleTerrestre(Animale):    \n",
    "    def muovi(self):\n",
    "        print(\"Cammino!\")"
   ]
  },
  {
   "cell_type": "code",
   "execution_count": 34,
   "id": "0897ffac",
   "metadata": {},
   "outputs": [
    {
     "name": "stdout",
     "output_type": "stream",
     "text": [
      "ANIMALE: Dragone cinese\n"
     ]
    },
    {
     "ename": "AnimaleMitologicoException",
     "evalue": " Hai selezionato una specie mitologica. Non puoi creare questo animale! Drago",
     "output_type": "error",
     "traceback": [
      "\u001b[0;31m---------------------------------------------------------------------------\u001b[0m",
      "\u001b[0;31mAnimaleMitologicoException\u001b[0m                Traceback (most recent call last)",
      "\u001b[0;32m<ipython-input-34-d9ff4b154660>\u001b[0m in \u001b[0;36m<module>\u001b[0;34m\u001b[0m\n\u001b[1;32m      3\u001b[0m \u001b[0mprint\u001b[0m\u001b[0;34m(\u001b[0m\u001b[0mdragone_cinese\u001b[0m\u001b[0;34m)\u001b[0m\u001b[0;34m\u001b[0m\u001b[0;34m\u001b[0m\u001b[0m\n\u001b[1;32m      4\u001b[0m \u001b[0;34m\u001b[0m\u001b[0m\n\u001b[0;32m----> 5\u001b[0;31m \u001b[0mdrago\u001b[0m \u001b[0;34m=\u001b[0m \u001b[0mAnimaleTerrestre\u001b[0m\u001b[0;34m(\u001b[0m\u001b[0;34m\"Drago\"\u001b[0m\u001b[0;34m,\u001b[0m \u001b[0;34m\"Fuoco!\"\u001b[0m\u001b[0;34m)\u001b[0m\u001b[0;34m\u001b[0m\u001b[0;34m\u001b[0m\u001b[0m\n\u001b[0m",
      "\u001b[0;32m<ipython-input-33-f22d800c539a>\u001b[0m in \u001b[0;36m__init__\u001b[0;34m(self, specie, verso)\u001b[0m\n\u001b[1;32m     13\u001b[0m             \u001b[0mself\u001b[0m\u001b[0;34m.\u001b[0m\u001b[0mverso\u001b[0m \u001b[0;34m=\u001b[0m \u001b[0mverso\u001b[0m\u001b[0;34m\u001b[0m\u001b[0;34m\u001b[0m\u001b[0m\n\u001b[1;32m     14\u001b[0m         \u001b[0;32melse\u001b[0m\u001b[0;34m:\u001b[0m\u001b[0;34m\u001b[0m\u001b[0;34m\u001b[0m\u001b[0m\n\u001b[0;32m---> 15\u001b[0;31m             \u001b[0;32mraise\u001b[0m \u001b[0mAnimaleMitologicoException\u001b[0m\u001b[0;34m(\u001b[0m\u001b[0mspecie\u001b[0m\u001b[0;34m)\u001b[0m\u001b[0;34m\u001b[0m\u001b[0;34m\u001b[0m\u001b[0m\n\u001b[0m\u001b[1;32m     16\u001b[0m \u001b[0;34m\u001b[0m\u001b[0m\n\u001b[1;32m     17\u001b[0m     \u001b[0;32mdef\u001b[0m \u001b[0m__str__\u001b[0m\u001b[0;34m(\u001b[0m\u001b[0mself\u001b[0m\u001b[0;34m)\u001b[0m\u001b[0;34m:\u001b[0m\u001b[0;34m\u001b[0m\u001b[0;34m\u001b[0m\u001b[0m\n",
      "\u001b[0;31mAnimaleMitologicoException\u001b[0m:  Hai selezionato una specie mitologica. Non puoi creare questo animale! Drago"
     ]
    }
   ],
   "source": [
    "dragone_cinese = AnimaleTerrestre(\"Dragone cinese\", \"Nihao\")\n",
    "\n",
    "print(dragone_cinese)\n",
    "\n",
    "drago = AnimaleTerrestre(\"Drago\", \"Fuoco!\")"
   ]
  },
  {
   "cell_type": "markdown",
   "id": "43fea98d",
   "metadata": {
    "slideshow": {
     "slide_type": "slide"
    }
   },
   "source": [
    "# Grazie mille!\n",
    "\n",
    "James Luca Bosotti\n",
    "\n",
    "bosottiluca@gmail.com"
   ]
  }
 ],
 "metadata": {
  "celltoolbar": "Slideshow",
  "kernelspec": {
   "display_name": "Python 3",
   "language": "python",
   "name": "python3"
  },
  "language_info": {
   "codemirror_mode": {
    "name": "ipython",
    "version": 3
   },
   "file_extension": ".py",
   "mimetype": "text/x-python",
   "name": "python",
   "nbconvert_exporter": "python",
   "pygments_lexer": "ipython3",
   "version": "3.8.10"
  },
  "toc": {
   "base_numbering": 1,
   "nav_menu": {},
   "number_sections": true,
   "sideBar": true,
   "skip_h1_title": false,
   "title_cell": "Table of Contents",
   "title_sidebar": "Contents",
   "toc_cell": false,
   "toc_position": {},
   "toc_section_display": true,
   "toc_window_display": false
  }
 },
 "nbformat": 4,
 "nbformat_minor": 5
}
